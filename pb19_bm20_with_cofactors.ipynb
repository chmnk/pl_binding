{
 "cells": [
  {
   "cell_type": "code",
   "execution_count": 761,
   "metadata": {},
   "outputs": [
    {
     "name": "stdout",
     "output_type": "stream",
     "text": [
      "The autoreload extension is already loaded. To reload it, use:\n",
      "  %reload_ext autoreload\n"
     ]
    }
   ],
   "source": [
    "%load_ext autoreload\n",
    "%autoreload 2"
   ]
  },
  {
   "cell_type": "code",
   "execution_count": 167,
   "metadata": {},
   "outputs": [],
   "source": [
    "import sys, os, getpass, socket\n",
    "import urllib, json\n",
    "import urllib.request \n",
    "import re\n",
    "from collections import Counter\n",
    "username = getpass.getuser()\n",
    "hostname = socket.gethostname()\n",
    "\n",
    "sys.path.append(\"/home/{0}/pylig\".format(username))  # my source to get the relative path, add your source"
   ]
  },
  {
   "cell_type": "code",
   "execution_count": 587,
   "metadata": {},
   "outputs": [],
   "source": [
    "import numpy as np\n",
    "import scipy\n",
    "import re\n",
    "from matplotlib.pyplot import *\n",
    "from sklearn.metrics import mean_squared_error\n",
    "from scipy.stats import pearsonr\n",
    "import tqdm\n",
    "import pickle\n",
    "import struct\n",
    "import array\n",
    "from scipy.sparse import csr_matrix"
   ]
  },
  {
   "cell_type": "markdown",
   "metadata": {
    "collapsed": true
   },
   "source": [
    "# Compare PDBBind (v2019) and BindingMOAD 2020\n",
    "I started from the comparison of PDBBind and BindingMOAD. Downloaded both datasets from their websites."
   ]
  },
  {
   "cell_type": "code",
   "execution_count": 667,
   "metadata": {},
   "outputs": [],
   "source": [
    "from databases.bindingmoad.bindingmoad_paths import *\n",
    "from databases.pdbbind.pdbbind_paths import *\n",
    "from databases.db_comparison.data_utils import *\n",
    "from databases.db_comparison.data_utils import UTILS  # for autoreload\n",
    "from lig_prot.types_list import CPLAtomTypes"
   ]
  },
  {
   "cell_type": "code",
   "execution_count": 169,
   "metadata": {},
   "outputs": [],
   "source": [
    "PATH_index, PATH_index_refined, PATH_index_detailed, PATH_pdbbind_general = get_pdbbind_paths('2019')\n",
    "PATH_CCD = '/home/{0}/data/pdbe_dict/components.cif'.format(username)\n",
    "PATH_main = '/home/{0}/data/combined_dataset/'.format(username)"
   ]
  },
  {
   "cell_type": "markdown",
   "metadata": {},
   "source": [
    "### Parse the BindingMOAD index file\n",
    "A piece of index corresponding to 10gs\n",
    "```bash\n",
    ",,10GS,,,,,,,\n",
    ",,,MES:A:211,invalid,,,,,C1COCC[NH+]1CCS(=O)(=O)[O-],\n",
    ",,,MES:B:211,invalid,,,,,C1COCC[NH+]1CCS(=O)(=O)[O-],\n",
    ",,,VWW:A:210,valid,Ki,=,0.4,uM,c1ccc(cc1)CSC[C@@H](C(=O)N[C@H](c2ccccc2)C(=O)O)NC(=O)CC[C@@H](C(=O)O)N,\n",
    ",,,VWW:B:210,valid,Ki,=,0.4,uM,c1ccc(cc1)CSC[C@@H](C(=O)N[C@H](c2ccccc2)C(=O)O)NC(=O)CC[C@@H](C(=O)O)N,\n",
    "```\n",
    "will become\n",
    "```python\n",
    "{'10gs': {'VWW': ('Ki', '=', 0.4, 'uM', 6.3979400086720375)}}\n",
    "```"
   ]
  },
  {
   "cell_type": "code",
   "execution_count": 94,
   "metadata": {},
   "outputs": [],
   "source": [
    "bindingmoad_index = {}\n",
    "bindingmoad_index_detailed = {}\n",
    "bindingmoad_index_invalid = {}\n",
    "bindingmoad_index_p_part = {}\n",
    "cur_pdbcode = ''\n",
    "with open('{0}index_2020.csv'.format(PATH_bindingmoad)) as F:\n",
    "    for ln_ in F:\n",
    "        ln = ln_.replace('\\n', '').split(',')\n",
    "        if len(ln[2]) == 4:\n",
    "            cur_pdbcode = ln[2].lower()\n",
    "            bindingmoad_index[cur_pdbcode] = {}\n",
    "            bindingmoad_index_detailed[cur_pdbcode] = {}\n",
    "            bindingmoad_index_invalid[cur_pdbcode] = {}\n",
    "            bindingmoad_index_p_part[cur_pdbcode] = {}\n",
    "            continue\n",
    "        elif ln[3] != '':\n",
    "            if ln[4] == 'invalid':\n",
    "                bindingmoad_index_invalid[cur_pdbcode][ln[3].split(':')[0]] = ','.join(ln)\n",
    "                continue\n",
    "            elif ln[4] == 'Part of Protein':\n",
    "                bindingmoad_index_p_part[cur_pdbcode][ln[3].split(':')[0]] = ','.join(ln)\n",
    "                continue\n",
    "            elif (ln[4] == 'valid') and (ln[5] != '') and (ln[6] != '') and (ln[7] != ''):\n",
    "                units_ = ln[8]  # \"M\", \"mM\", \"uM\", \"nM\", \"pM\", \"fM\", \"M^-1\"\n",
    "                val_ = float(ln[7])\n",
    "                pval_ = None\n",
    "                if units_ == 'M':                    \n",
    "                    pval_ = -np.log10(val_)\n",
    "                    val_ = val_ * (10**(6))\n",
    "                    units_ = 'uM'\n",
    "                elif units_ == 'mM':                    \n",
    "                    pval_ = -np.log10(val_*(10**(-3)))\n",
    "                    val_ = val_ * (10**(3))\n",
    "                    units_ = 'uM'\n",
    "                elif units_ == 'uM':                    \n",
    "                    pval_ = -np.log10(val_*(10**(-6)))\n",
    "                elif units_ == 'nM':                    \n",
    "                    pval_ = -np.log10(val_*(10**(-9)))\n",
    "                    val_ = val_ * (10**(-3))\n",
    "                    units_ = 'uM'\n",
    "                elif units_ == 'pM':                    \n",
    "                    pval_ = -np.log10(val_*(10**(-12)))\n",
    "                    val_ = val_ * (10**(-6))\n",
    "                    units_ = 'uM'\n",
    "                elif units_ == 'fM':                    \n",
    "                    pval_ = -np.log10(val_*(10**(-15)))\n",
    "                    val_ = val_ * (10**(-9))\n",
    "                    units_ = 'uM'\n",
    "                elif units_ == 'M^-1':                    \n",
    "                    pval_ = -np.log10(1./val_)\n",
    "                else:\n",
    "                    print('Unknown unit!', units_)\n",
    "                ligcode,c_id,r_id = ln[3].split(':')\n",
    "                r_id = int(r_id)\n",
    "                bindingmoad_index[cur_pdbcode][ligcode] = tuple([ln[5].replace('ic50', 'IC50'), \n",
    "                                                                 ln[6], val_, units_, pval_])\n",
    "                if ligcode not in bindingmoad_index_detailed[cur_pdbcode]:\n",
    "                    bindingmoad_index_detailed[cur_pdbcode][ligcode] = []\n",
    "                bindingmoad_index_detailed[cur_pdbcode][ligcode].append(tuple([c_id, r_id, \n",
    "                                                                          ln[5].replace('ic50', 'IC50'), \n",
    "                                                                          ln[6], val_, units_, pval_]))\n",
    "pdbcodes_bindingmoad = sorted(bindingmoad_index.keys())"
   ]
  },
  {
   "cell_type": "code",
   "execution_count": 7,
   "metadata": {},
   "outputs": [
    {
     "name": "stdout",
     "output_type": "stream",
     "text": [
      "BindingMOAD index size: 14135\n",
      "10gs {'VWW': ('Ki', '=', 0.4, 'uM', 6.3979400086720375)}\n",
      "11gs {'GSH EAA': ('Ki', '=', 1.5, 'uM', 5.823908740944319)}\n",
      "13gs {'SAS': ('Ki', '=', 24.0, 'uM', 4.619788758288394)}\n",
      "181l {'BNZ': ('Ka', '=', 5700.0, 'M^-1', 3.7558748556724915)}\n",
      "182l {'BZF': ('Ka', '=', 8900.0, 'M^-1', 3.949390006644913)}\n",
      "183l {'DEN': ('Ka', '=', 5170.0, 'M^-1', 3.7134905430939424)}\n",
      "184l {'I4B': ('Ka', '=', 51000.0, 'M^-1', 4.707570176097937)}\n",
      "185l {'IND': ('Kd', '=', 289.0, 'uM', 3.5391021572434522)}\n",
      "186l {'N4B': ('Kd', '=', 14.0, 'uM', 4.853871964321762)}\n",
      "187l {'PXY': ('Kd', '=', 422.0, 'uM', 3.374687549038326)}\n"
     ]
    }
   ],
   "source": [
    "print('BindingMOAD index size:', len(bindingmoad_index))\n",
    "# len(pdbbind_index)\n",
    "for p in pdbcodes_bindingmoad[:10]:\n",
    "#     for k in binding_db_index[p].keys():\n",
    "#         if 'pM' in binding_db_index[p][k]:\n",
    "    print(p, bindingmoad_index[p])"
   ]
  },
  {
   "cell_type": "markdown",
   "metadata": {},
   "source": [
    "### Parse the PDBBind index file\n",
    "\n",
    "Parsing the INDEX_general_PL_data.yyyy\n",
    "\n",
    "A piece of index corresponding to 10gs\n",
    "```bash\n",
    "10gs  2.20  1998   6.40  Ki=0.4uM      // 10gs.pdf (VWW)\n",
    "```\n",
    "will become\n",
    "```python\n",
    "{'10gs': {'VWW': ('Ki', '=', 0.4, 'uM', 6.3979400086720375)}}\n",
    "```"
   ]
  },
  {
   "cell_type": "code",
   "execution_count": 172,
   "metadata": {},
   "outputs": [
    {
     "name": "stdout",
     "output_type": "stream",
     "text": [
      "/home/maria/data/pdbbind/2019/index/INDEX_general_PL_data.2019\n"
     ]
    }
   ],
   "source": [
    "print(PATH_index)"
   ]
  },
  {
   "cell_type": "code",
   "execution_count": 8,
   "metadata": {},
   "outputs": [],
   "source": [
    "pdbbind_index = {}\n",
    "cur_pdbcode = ''\n",
    "with open(PATH_index) as F:\n",
    "    for ln_ in F:\n",
    "        if ln_.startswith('#'):\n",
    "            continue\n",
    "        ln = ln_.replace('\\n', '').split()\n",
    "#         print(ln)\n",
    "        cur_pdbcode = ln[0].lower()\n",
    "        if not os.path.exists('{0}{1}'.format(PATH_pdbbind_general, cur_pdbcode)):\n",
    "            continue\n",
    "        pdbbind_index[cur_pdbcode] = {}\n",
    "        try:\n",
    "            btype, bsign, val_, units_ = re.findall(r'IC50|[A-Za-z]+|[\\d\\.\\d]+|\\W+', ln[4])\n",
    "        except ValueError:\n",
    "            print(cur_pdbcode, re.findall(r'IC50|[A-Za-z]+|[\\d\\.\\d]+|\\W+', ln[4]))\n",
    "            break\n",
    "        ligname = None\n",
    "        mol_ids = []\n",
    "        if '(' in ln_ and ')' in ln:\n",
    "            ligname_candidate = ln_.split(')')[0].split('(')[-1]\n",
    "            if ligname_candidate.isupper():\n",
    "                ligname = ligname_candidate.replace('&', ' ')\n",
    "        if ligname is None:\n",
    "            Fmol = open('{0}{1}/{1}_ligand.mol2'.format(PATH_pdbbind_general, cur_pdbcode), 'r')\n",
    "            a = Fmol.readline()\n",
    "            while '@<TRIPOS>ATOM' not in a:\n",
    "                a = Fmol.readline()\n",
    "            a = Fmol.readline()\n",
    "            while '@<TRIPOS>BOND' not in a:\n",
    "                resname = a.split()[7]\n",
    "                if resname not in mol_ids:\n",
    "                    mol_ids.append(resname)\n",
    "                a = Fmol.readline()\n",
    "            Fmol.close()\n",
    "            ligname = ' '.join(mol_ids)\n",
    "        \n",
    "        val_ = float(val_)\n",
    "        pval_ = None\n",
    "        if units_ == 'M':                    \n",
    "            pval_ = -np.log10(val_)\n",
    "            val_ = val_ * (10**(6))\n",
    "            units_ = 'uM'\n",
    "        elif units_ == 'mM':                    \n",
    "            pval_ = -np.log10(val_*(10**(-3)))\n",
    "            val_ = val_ * (10**(3))\n",
    "            units_ = 'uM'\n",
    "        elif units_ == 'uM':                    \n",
    "            pval_ = -np.log10(val_*(10**(-6)))\n",
    "        elif units_ == 'nM':                    \n",
    "            pval_ = -np.log10(val_*(10**(-9)))\n",
    "            val_ = val_ * (10**(-3))\n",
    "            units_ = 'uM'\n",
    "        elif units_ == 'pM':                    \n",
    "            pval_ = -np.log10(val_*(10**(-12)))\n",
    "            val_ = val_ * (10**(-6))\n",
    "            units_ = 'uM'\n",
    "        elif units_ == 'fM':                    \n",
    "            pval_ = -np.log10(val_*(10**(-15)))\n",
    "            val_ = val_ * (10**(-9))\n",
    "            units_ = 'uM'\n",
    "        else:\n",
    "            print('Unknown unit!', units_)\n",
    "        pdbbind_index[cur_pdbcode][ligname] = tuple([btype, bsign, val_, units_, pval_])\n",
    "pdbcodes_pdbbind = sorted(pdbbind_index.keys())"
   ]
  },
  {
   "cell_type": "markdown",
   "metadata": {},
   "source": [
    "### Read the PDBBind comments"
   ]
  },
  {
   "cell_type": "code",
   "execution_count": 9,
   "metadata": {},
   "outputs": [
    {
     "name": "stdout",
     "output_type": "stream",
     "text": [
      "/home/maria/data/pdbbind/2019/index/INDEX_general_PL.2019\n"
     ]
    }
   ],
   "source": [
    "pdbbind_index_w_comments = {}\n",
    "print(PATH_index_detailed)\n",
    "\n",
    "with open(PATH_index_detailed) as F:\n",
    "    for ln_ in F:\n",
    "        if ln_.startswith('#'):\n",
    "            continue\n",
    "        ln_ = ln_.replace('\\n', '')\n",
    "        ln = ln_.split()\n",
    "        cur_pdbcode = ln[0].lower()\n",
    "        comm = ln_.split('//')[1]\n",
    "        if not os.path.exists('{0}{1}'.format(PATH_pdbbind_general, cur_pdbcode)):\n",
    "            continue\n",
    "        pdbbind_index_w_comments[cur_pdbcode] = comm"
   ]
  },
  {
   "cell_type": "code",
   "execution_count": 10,
   "metadata": {},
   "outputs": [
    {
     "name": "stdout",
     "output_type": "stream",
     "text": [
      "PDBBind index size: 17652\n",
      "10gs {'VWW': ('Ki', '=', 0.4, 'uM', 6.3979400086720375)}  10gs.pdf (VWW)\n",
      "11gs {'GSH EAA': ('Ki', '=', 1.5, 'uM', 5.823908740944319)}  11gs.pdf (2-mer) redundant to 3gss\n",
      "13gs {'SAS': ('Ki', '=', 24.0, 'uM', 4.619788758288394)}  13gs.pdf (SAS)\n",
      "16pk {'BIS': ('Ki', '=', 6.0, 'uM', 5.221848749616356)}  16pk.pdf (BIS) X-ray(Trypanosoma brucei PGK) while Ki(yeast PGK)\n",
      "184l {'I4B': ('Kd', '=', 19.0, 'uM', 4.721246399047171)}  184l.pdf (I4B) ligand is compound 39\n",
      "185l {'IND': ('Kd', '=', 290.0, 'uM', 3.537602002101044)}  185l.pdf (IND) ligand is compound 15\n",
      "186l {'N4B': ('Kd', '=', 14.0, 'uM', 4.853871964321762)}  186l.pdf (N4B) ligand is compound 38\n",
      "187l {'PXY': ('Kd', '=', 422.0, 'uM', 3.374687549038326)}  187l.pdf (PXY) ligand is compound 18\n",
      "188l {'OXE': ('Kd', '=', 470.0, 'uM', 3.3279021420642825)}  188l.pdf (OXE) ligand is compound 4\n",
      "1a07 {'ACE PTR GLU DIP': ('Kd', '=', 0.4, 'uM', 6.3979400086720375)}  1a07.pdf (4-mer) incomplete ligand structure\n"
     ]
    }
   ],
   "source": [
    "print('PDBBind index size:', len(pdbbind_index))\n",
    "for p in pdbcodes_pdbbind[:10]:\n",
    "#     for k in binding_db_index[p].keys():\n",
    "#         if 'pM' in binding_db_index[p][k]:\n",
    "    print(p, pdbbind_index[p], pdbbind_index_w_comments[p])"
   ]
  },
  {
   "cell_type": "markdown",
   "metadata": {},
   "source": [
    "### Filter complexes present in both benchmarks"
   ]
  },
  {
   "cell_type": "code",
   "execution_count": 49,
   "metadata": {},
   "outputs": [],
   "source": [
    "pdbcodes_both = sorted(list(set(pdbcodes_bindingmoad).intersection(set(pdbcodes_pdbbind))))\n",
    "pdbcodes_both_all = sorted(list(set(pdbcodes_bindingmoad).union(set(pdbcodes_pdbbind))))"
   ]
  },
  {
   "cell_type": "markdown",
   "metadata": {},
   "source": [
    "### Helper functions"
   ]
  },
  {
   "cell_type": "code",
   "execution_count": 12,
   "metadata": {},
   "outputs": [],
   "source": [
    "# provides support for the glycans and peptides\n",
    "def check_subcomponents(lig_code):\n",
    "    ligcode_found = False\n",
    "    data_str = ''\n",
    "    with open(PATH_CCD) as F_ccd:\n",
    "        for ln_ in F_ccd:\n",
    "            if ligcode_found and ln_.startswith('_chem_comp.pdbx_subcomponent_list'):\n",
    "                if '\"' in ln_:\n",
    "                    components = ln_.split('\"')[1].split('\"')[0]\n",
    "                    return components\n",
    "                else:\n",
    "                    return None\n",
    "            if ln_.startswith('data_' + lig_code):\n",
    "                data_str = ln_\n",
    "                ligcode_found = True       \n",
    "    return None"
   ]
  },
  {
   "cell_type": "code",
   "execution_count": 13,
   "metadata": {},
   "outputs": [
    {
     "name": "stdout",
     "output_type": "stream",
     "text": [
      "GLC FRU\n"
     ]
    }
   ],
   "source": [
    "# example\n",
    "print(check_subcomponents('SUC'))"
   ]
  },
  {
   "cell_type": "markdown",
   "metadata": {},
   "source": [
    "### Check whether the complexes with same PDB ids are same"
   ]
  },
  {
   "cell_type": "code",
   "execution_count": 13,
   "metadata": {},
   "outputs": [
    {
     "name": "stdout",
     "output_type": "stream",
     "text": [
      "0\n",
      "1000\n",
      "2000\n",
      "3000\n",
      "4000\n",
      "5000\n",
      "6000\n",
      "7000\n",
      "8000\n",
      "9000\n",
      "almost_equal 384\n",
      "differentK 154\n",
      "differentK+max/min < 10 55\n",
      "differentK+max/min < 100 11\n",
      "differentK+max/min < 1000 34\n",
      "differentK+max/min < 10000 12\n",
      "differentK+max/min < 100000 2\n",
      "differentK+max/min < 1000000 2\n",
      "differentK+max/min < 100000000 5\n",
      "differentK+max/min < 2 201\n",
      "differentK+max/min < 5 176\n",
      "differentK+max/min < 50 59\n",
      "differentK+sign 8\n",
      "different_lig_codes 37\n",
      "max/min < 10 98\n",
      "max/min < 100 38\n",
      "max/min < 1000 54\n",
      "max/min < 10000 23\n",
      "max/min < 100000 5\n",
      "max/min < 100000000 1\n",
      "max/min < 2 188\n",
      "max/min < 5 169\n",
      "max/min < 50 120\n",
      "other 3\n",
      "pdbbind_DEL 0\n",
      "pdbbind_LIG 0\n",
      "pdbbind_MOL 17\n",
      "pdbbind_NON 92\n",
      "pdbbind_UNK 0\n",
      "sign 112\n",
      "small_resname_diff 405\n",
      "Total: 9949\n",
      "1253 1253 1253\n"
     ]
    }
   ],
   "source": [
    "problem_type_dct = {'sign': [], 'other': [], 'differentK': [], 'differentK+sign': [], \n",
    "                    'pdbbind_MOL': [], 'pdbbind_NON': [], 'pdbbind_UNK': [], 'pdbbind_LIG': [], 'pdbbind_DEL': [],\n",
    "                   'small_resname_diff': [], 'different_lig_codes': [], 'almost_equal': []}\n",
    "# subcomponents cache\n",
    "components_dict = {}\n",
    "# relative difference thresholds\n",
    "relative_tols = [2, 5, 10, 50, 100, 1000, 10000, 100000, 1000000, 10000000, 100000000]\n",
    "n_problems = 0\n",
    "\n",
    "relative_differences = []\n",
    "different_bks = []\n",
    "\n",
    "\n",
    "def inner_tuples_compare(pdbcode, t1, t2):\n",
    "    '''\n",
    "    Helper function that compares tuples associated with each pdbcode.\n",
    "    '''\n",
    "    if t1 == t2:\n",
    "        return 'equal'\n",
    "    elif t1[3] == 'M^-1' and np.isclose(t1[4], t2[4], atol=10e-4):\n",
    "        return 'equal'\n",
    "    elif t1[3] == 'M^-1' and np.isclose(t1[4], t2[4], atol=10e-2):\n",
    "        return 'almost_equal'\n",
    "    elif (t1[1:] == t2[1:]) and (set([t1[0], t2[0]]) in [set(['Ki', 'Kd']), set(['Ki', 'IC50']), set(['Kd', 'IC50'])]):\n",
    "        return 'differentK'\n",
    "    elif (t1[2:] == t2[2:]) and (t1[0] == t2[0]) and (t1[1] != t2[1]):\n",
    "        return 'sign'\n",
    "    elif (set([t1[0], t2[0]]) in [set(['Ki', 'Kd']), set(['Ki', 'IC50']), set(['Kd', 'IC50'])]) and (t1[1] != t2[1]) and (t1[2:] == t2[2:]):\n",
    "        return 'differentK+sign'\n",
    "    elif t1[0] == t2[0] and np.isclose(t1[4], t2[4], atol=10e-2):\n",
    "        return 'almost_equal'\n",
    "    elif (t1[:2] == t2[:2]):\n",
    "        if t1[3] == 'M^-1':\n",
    "            diff_relative = max(1./t1[2], t2[2])/min(1./t1[2], t2[2])\n",
    "        else:\n",
    "            diff_relative = max(t1[2], t2[2])/min(t1[2], t2[2])\n",
    "        diff_relative_lg = max(t1[4], t2[4])/min(t1[4], t2[4])\n",
    "        for rt in relative_tols:\n",
    "            if diff_relative <= rt:\n",
    "                relative_differences.append(diff_relative_lg)\n",
    "                different_bks.append([t1[4], t2[4]])\n",
    "                problem_name = 'max/min < {0}'.format(rt)\n",
    "                if problem_name not in problem_type_dct.keys():\n",
    "                    problem_type_dct[problem_name] = []  # atoms will be added in the main loop\n",
    "                return problem_name\n",
    "        print(pdbcode, rt, t1, t2, diff_relative)\n",
    "        return 'other'\n",
    "    elif (t1[:2] != t2[:2]):\n",
    "        if t1[3] == 'M^-1':\n",
    "            diff_relative = max(1./t1[2], t2[2])/min(1./t1[2], t2[2])\n",
    "        else:\n",
    "            diff_relative = max(t1[2], t2[2])/min(t1[2], t2[2])\n",
    "        diff_relative_lg = max(t1[4], t2[4])/min(t1[4], t2[4])\n",
    "        for rt in relative_tols:\n",
    "            if diff_relative <= rt:\n",
    "                relative_differences.append(diff_relative_lg)\n",
    "                different_bks.append([t1[4], t2[4]])\n",
    "                problem_name = 'differentK+max/min < {0}'.format(rt)\n",
    "                if problem_name not in problem_type_dct.keys():\n",
    "                    problem_type_dct[problem_name] = []  # items will be added in the main loop\n",
    "                return problem_name\n",
    "        print(pdbcode, rt, t1, t2, diff_relative)\n",
    "        return 'other'\n",
    "    else:\n",
    "        return 'other'\n",
    "\n",
    "# main loop\n",
    "n_bad = 0\n",
    "for i_pdbcode, pdbcode in enumerate(pdbcodes_both):\n",
    "    if i_pdbcode % 1000 == 0:\n",
    "        print(i_pdbcode)\n",
    "    had_small_difference = False\n",
    "    # Take the first ligand from the pdbcode's ligands, based on PDBBind ID.\n",
    "    # There is only ONE ligand in PDBBind (but it can be a string with several\n",
    "    # residue codes). Therefore we take [0].\n",
    "    k_pdbbind = list(pdbbind_index[pdbcode].keys())[0]\n",
    "    \n",
    "    if k_pdbbind not in bindingmoad_index[pdbcode].keys() and len(k_pdbbind) == 3 \\\n",
    "       and k_pdbbind not in ['MOL', 'UNK', 'NON', 'LIG', 'DEL']:\n",
    "        if k_pdbbind not in components_dict:\n",
    "            sbc = check_subcomponents(k_pdbbind)\n",
    "            components_dict[k_pdbbind] = sbc\n",
    "        else:\n",
    "            sbc = components_dict[k_pdbbind]\n",
    "        if sbc is not None:\n",
    "            pdbbind_index[pdbcode][sbc] = pdbbind_index[pdbcode][k_pdbbind]\n",
    "            del pdbbind_index[pdbcode][k_pdbbind]\n",
    "            \n",
    "    k_pdbbind = list(pdbbind_index[pdbcode].keys())[0]\n",
    "            \n",
    "    if k_pdbbind not in bindingmoad_index[pdbcode].keys():\n",
    "        # Check whether the ligand ID in PDBBind and in BindingMOAD are the same, \n",
    "        # but with a permutation: 'lID1 lID2 lID3' and 'lID2 lID3 lID1'.\n",
    "        # In this case we consider them to be the same and change the key in BMOAD.\n",
    "        cur_keys_bmd = list(bindingmoad_index[pdbcode].keys())\n",
    "        for k_bmd in cur_keys_bmd:\n",
    "            if set(k_bmd.split()) == set(k_pdbbind.split()):\n",
    "                bindingmoad_index[pdbcode][k_pdbbind] = bindingmoad_index[pdbcode][k_bmd]\n",
    "                had_small_difference = True\n",
    "    \n",
    "    # Checking once again after the previous step\n",
    "    if k_pdbbind in bindingmoad_index[pdbcode].keys():\n",
    "        t1 = bindingmoad_index[pdbcode][k_pdbbind]\n",
    "        t2 = pdbbind_index[pdbcode][k_pdbbind]\n",
    "        tuple_compared = inner_tuples_compare(pdbcode, t1, t2)\n",
    "        if tuple_compared == 'equal' and not had_small_difference:\n",
    "            continue\n",
    "        elif tuple_compared == 'equal' and had_small_difference:\n",
    "            problem_type_dct['small_resname_diff'].append(pdbcode)\n",
    "            continue\n",
    "        elif tuple_compared != 'other':\n",
    "            if 'max/min' in tuple_compared:\n",
    "                n_bad += 1\n",
    "            problem_type_dct[tuple_compared].append(pdbcode)\n",
    "            continue\n",
    "    else:\n",
    "        t2 = pdbbind_index[pdbcode][k_pdbbind]\n",
    "        cur_keys_bmd = list(bindingmoad_index[pdbcode].keys())\n",
    "        conti = False\n",
    "        # find a molecule with a similar ligand name\n",
    "        for k_bmd in cur_keys_bmd:\n",
    "            t1 = bindingmoad_index[pdbcode][k_bmd]\n",
    "            if k_pdbbind in ['MOL', 'UNK', 'NON', 'LIG', 'DEL']:\n",
    "                tuple_compared = inner_tuples_compare(pdbcode, t1, t2)\n",
    "                if tuple_compared in ['equal', 'almost_equal', 'sign', 'differentK', 'differentK+sign']:\n",
    "                    problem_type_dct['pdbbind_' + k_pdbbind].append(pdbcode)\n",
    "                    conti = True\n",
    "                    break\n",
    "                elif 'max/min' in tuple_compared:\n",
    "                    problem_type_dct[tuple_compared].append(pdbcode)\n",
    "                    n_bad += 1\n",
    "                    conti = True\n",
    "                    break\n",
    "                else:\n",
    "                    print('Unknown problem in unkown resi!', pdbcode, k_pdbbind, k_bmd)\n",
    "            elif len(set(k_pdbbind.split()).intersection(set(k_bmd.split()))) > 0:\n",
    "                tuple_compared = inner_tuples_compare(pdbcode, t1, t2)\n",
    "                if tuple_compared in ['equal', 'almost_equal', 'sign', 'differentK', 'differentK+sign']:\n",
    "                    problem_type_dct['small_resname_diff'].append(pdbcode)\n",
    "                    conti = True\n",
    "                    break\n",
    "                elif 'max/min' in tuple_compared:\n",
    "                    problem_type_dct[tuple_compared].append(pdbcode)\n",
    "                    n_bad += 1\n",
    "                    conti = True\n",
    "                    break\n",
    "                else:\n",
    "                    print('Unknown problem in intersecting resi!', pdbcode, k_pdbbind, k_bmd)\n",
    "            else:\n",
    "                tuple_compared = inner_tuples_compare(pdbcode, t1, t2)\n",
    "                if tuple_compared in ['equal', 'almost_equal', 'sign', 'differentK', 'differentK+sign']:\n",
    "#                     if tuple_compared == 'equal':\n",
    "                    problem_type_dct['different_lig_codes'].append(pdbcode)\n",
    "#                     else:\n",
    "#                         problem_type_dct[tuple_compared] += 1\n",
    "                    conti = True\n",
    "                    break\n",
    "                elif 'max/min' in tuple_compared:\n",
    "                    problem_type_dct[tuple_compared].append(pdbcode)\n",
    "                    n_bad += 1\n",
    "                    conti = True\n",
    "                    break\n",
    "                    \n",
    "        if conti:\n",
    "            continue\n",
    "            \n",
    "#     print(pdbcode)\n",
    "#     print(pdbbind_index[pdbcode])\n",
    "#     print(bindingmoad_index[pdbcode])\n",
    "    problem_type_dct['other'].append(pdbcode)\n",
    "\n",
    "for k in sorted(problem_type_dct.keys()):\n",
    "    print(k, len(problem_type_dct[k]))\n",
    "print('Total:', len(pdbcodes_both))\n",
    "print(n_bad, len(relative_differences), len(different_bks))"
   ]
  },
  {
   "cell_type": "markdown",
   "metadata": {
    "collapsed": true
   },
   "source": [
    "### Summary of differences "
   ]
  },
  {
   "cell_type": "code",
   "execution_count": 14,
   "metadata": {},
   "outputs": [
    {
     "name": "stdout",
     "output_type": "stream",
     "text": [
      "{'weak_difference': 1209, 'incomparable': 3, 'small_difference_bk': 887, 'medium_difference_bk': 228, 'big_difference_bk': 138}\n",
      "1253\n"
     ]
    }
   ],
   "source": [
    "tols_small = [2, 5, 10]\n",
    "tols_med = [50, 100]\n",
    "tols_big = [1000, 10000, 100000, 1000000, 10000000, 100000000, 1000000000, 10000000000]\n",
    "n_problems = {'weak_difference': 0, 'incomparable': 0,\n",
    "              'small_difference_bk': 0, 'medium_difference_bk': 0,\n",
    "              'big_difference_bk': 0\n",
    "             }\n",
    "problem_types_final_dct = {}\n",
    "problem_types_final_dct['weak_difference'] = ['almost_equal', 'differentK', 'sign', 'differentK+sign',\n",
    "                                              'small_resname_diff', 'different_lig_codes',\n",
    "                                              'pdbbind_NON', 'pdbbind_MOL'  ]\n",
    "\n",
    "problem_types_final_dct['incomparable'] = ['other'  ]\n",
    "\n",
    "problem_types_final_dct['small_difference_bk'] = ['differentK+max/min < ' + str(e) for e in tols_small] + \\\n",
    "                                                ['max/min < ' + str(e) for e in tols_small]\n",
    "\n",
    "problem_types_final_dct['medium_difference_bk'] = ['differentK+max/min < ' + str(e) for e in tols_med] + \\\n",
    "                                                ['max/min < ' + str(e) for e in tols_med]\n",
    "\n",
    "problem_types_final_dct['big_difference_bk'] = ['differentK+max/min < ' + str(e) for e in tols_big] + \\\n",
    "                                                ['max/min < ' + str(e) for e in tols_big]\n",
    "for p, v in problem_types_final_dct.items():\n",
    "    for k in v:\n",
    "        if k in problem_type_dct.keys():\n",
    "            n_problems[p] += len(problem_type_dct[k])\n",
    "    \n",
    "print(n_problems)\n",
    "print(n_problems['small_difference_bk'] + n_problems['medium_difference_bk'] + n_problems['big_difference_bk'])"
   ]
  },
  {
   "cell_type": "markdown",
   "metadata": {},
   "source": [
    "### Check specific differences"
   ]
  },
  {
   "cell_type": "code",
   "execution_count": 775,
   "metadata": {},
   "outputs": [],
   "source": [
    "for pdbcode in problem_type_dct['different_lig_codes']:\n",
    "    print(pdbcode)\n",
    "    print(pdbbind_index[pdbcode])\n",
    "    print(pdbbind_index_w_comments[pdbcode])\n",
    "    print(bindingmoad_index[pdbcode])\n",
    "    print('')"
   ]
  },
  {
   "cell_type": "code",
   "execution_count": 65,
   "metadata": {},
   "outputs": [
    {
     "data": {
      "image/png": "[encoded data removed]",
      "text/plain": [
       "<Figure size 432x288 with 1 Axes>"
      ]
     },
     "metadata": {
      "needs_background": "light"
     },
     "output_type": "display_data"
    }
   ],
   "source": [
    "different_bks = np.array(different_bks)\n",
    "scatter(different_bks[:, 0], different_bks[:, 1])\n",
    "xlabel('PDBBind log10(K$_{d}$/K$_{i}$/IC50)')\n",
    "ylabel('BindingMOAD log10(K$_{d}$/K$_{i}$/K$_a^{-1}$)')\n",
    "\n",
    "title('PDBBind / BindingMOAD pK$_b$ different by more than 1e-2,\\n{0} complexes'.format(len(different_bks)))\n",
    "\n",
    "\n",
    "mse_ = mean_squared_error(different_bks[:, 0], different_bks[:, 1])\n",
    "pearsonr_ = pearsonr(different_bks[:, 0], different_bks[:, 1])\n",
    "\n",
    "# these are matplotlib.patch.Patch properties\n",
    "props = dict(facecolor='white', alpha=0.5)\n",
    "\n",
    "# place a text box in upper left in axes coords\n",
    "text(0.05, 0.95, 'MSE={0:1.2f}\\nPearson\\'s R={1:1.2f}'.format(mse_, pearsonr_[0]), transform=gca().transAxes, fontsize=14,\n",
    "        verticalalignment='top', bbox=props)\n",
    "\n",
    "savefig('/home/maria/Pictures/pdbbind-bindingmoad-different.png', dpi=600)"
   ]
  },
  {
   "cell_type": "code",
   "execution_count": 762,
   "metadata": {},
   "outputs": [
    {
     "name": "stdout",
     "output_type": "stream",
     "text": [
      "1a4r {'GNH': ('Kd', '=', 0.22, 'uM', 6.657577319177793)} {'GDP': ('Kd', '=', 9.4e-06, 'uM', 11.0268721464003), 'GNH': ('Kd', '=', 0.22, 'uM', 6.657577319177793)}\n",
      "1gwv {'NON': ('Kd', '=', 2680.0, 'uM', 2.571865205971211)} {'UDP': ('Kd', '=', 53.0, 'uM', 4.275724130399211), 'BGC GAL': ('Kd', '=', 2680.0, 'uM', 2.571865205971211)}\n",
      "1gx4 {'UDP': ('Kd', '=', 53.0, 'uM', 4.275724130399211)} {'UDP': ('Kd', '=', 53.0, 'uM', 4.275724130399211), 'NAG GAL': ('Kd', '=', 580.0, 'uM', 3.2365720064370627)}\n",
      "2imd {'GSH': ('Kd', '=', 0.005, 'uM', 8.301029995663981)} {'2C2': ('Kd', '=', 19.0, 'uM', 4.721246399047171), 'GSH': ('Kd', '=', 14.0, 'uM', 4.853871964321762), 'TOH': ('Ki', '=', 136.0, 'uM', 3.8664610916297826)}\n",
      "3efs {'ATP': ('Kd', '=', 4.6, 'uM', 5.337242168318426)} {'ATP': ('Kd', '=', 7.2, 'uM', 5.142667503568732), 'BTN': ('Kd', '=', 3.5, 'uM', 5.455931955649724)}\n",
      "6g6y {'EOK': ('Kd', '=', 0.22, 'uM', 6.657577319177793)} {'ADP': ('IC50', '=', 0.74, 'uM', 6.130768280269024), 'EOK': ('IC50', '=', 0.74, 'uM', 6.130768280269024)}\n"
     ]
    }
   ],
   "source": [
    "# Simple check for cofactors\n",
    "for pdbcode in pdbcodes_both:\n",
    "    pdbcode_cur = list(pdbbind_index[pdbcode].keys())[0]\n",
    "    if len(bindingmoad_index[pdbcode]) > 1:\n",
    "        has_cofactor = False\n",
    "        for k in bindingmoad_index[pdbcode].keys():\n",
    "            if k in ['NAD', 'NDH', 'NDP', 'ATP', 'GDP', 'GTP', 'ADP', \n",
    "                     'FMN', 'FAD', 'PLP', 'TTP', 'SAM', 'GSH', 'FMT', \n",
    "                     'UDP', 'UTP']:\n",
    "                has_cofactor = True\n",
    "        if has_cofactor:\n",
    "            print (pdbcode, pdbbind_index[pdbcode], bindingmoad_index[pdbcode])"
   ]
  },
  {
   "cell_type": "markdown",
   "metadata": {},
   "source": [
    "# Download the cofactor dictionary\n",
    "Here I take the list of cofactors deposited in PDBe-KB."
   ]
  },
  {
   "cell_type": "code",
   "execution_count": 763,
   "metadata": {},
   "outputs": [],
   "source": [
    "data = UTILS.json_from_url(\"https://www.ebi.ac.uk/pdbe/api/pdb/compound/cofactors\")"
   ]
  },
  {
   "cell_type": "code",
   "execution_count": 764,
   "metadata": {},
   "outputs": [
    {
     "name": "stdout",
     "output_type": "stream",
     "text": [
      "Ascorbic acid ['ASC']\n",
      "Factor F430 ['F43', 'M43']\n",
      "MIO ['MDO']\n",
      "Phosphopantetheine ['PNS']\n",
      "Nicotinamide-adenine dinucleotide ['0WD', '1DG', '3AA', '3CD', '5J8', '6V0', '80F', '8ID', 'A3D', 'AP0', 'CNA', 'CND', 'DG1', 'DN4', 'DND', 'DQV', 'EAD', 'ENA', 'LNC', 'N01', 'NA0', 'NAD', 'NAE', 'NAI', 'NAJ', 'NAP', 'NAQ', 'NAX', 'NBD', 'NBP', 'NDA', 'NDC', 'NDE', 'NDO', 'NDP', 'NHD', 'NHO', 'NJP', 'NPW', 'ODP', 'P1H', 'PAD', 'SAD', 'SAE', 'SND', 'TAD', 'TAP', 'TDT', 'TXD', 'TXE', 'TXP', 'ZID']\n",
      "Dipyrromethane ['18W', '29P', 'DPM']\n",
      "Molybdopterin ['2MD', 'MCN', 'MGD', 'MSS', 'MTE', 'MTQ', 'MTV', 'PCD', 'PGD', 'XAX']\n",
      "Adenosylcobalamin ['B12', 'B1M', 'CNC', 'COB', 'COY']\n",
      "Flavin adenine dinucleotide ['6FA', 'FA8', 'FAA', 'FAB', 'FAD', 'FAE', 'FAO', 'FAS', 'FCG', 'FDA', 'FED', 'FNK', 'FSH', 'P5F', 'RFL', 'SFD']\n",
      "Tetrahydrofolic acid ['1YJ', 'C2F', 'DHF', 'FFO', 'FOL', 'FON', 'FOZ', 'THF', 'THG', 'THH']\n",
      "Coenzyme A ['01A', '01K', '0ET', '1C4', '1CV', '1CZ', '1HA', '1VU', '1XE', '2CP', '2NE', '3CP', '3H9', '3HC', '3VV', '4CA', '4CO', '52O', '7L1', '8JD', '8Z2', '94Q', 'ACO', 'AMX', 'BCA', 'BCO', 'BSJ', 'BYC', 'CA3', 'CA5', 'CA6', 'CA8', 'CAA', 'CAJ', 'CAO', 'CIC', 'CMC', 'CMX', 'CO6', 'CO7', 'CO8', 'COA', 'COD', 'COF', 'COO', 'COT', 'COW', 'COZ', 'DCA', 'DCC', 'FAM', 'FCX', 'FRE', 'FYN', 'GRA', 'HAX', 'HMG', 'HSC', 'HXC', 'IVC', 'MCA', 'MCD', 'MDE', 'MLC', 'MYA', 'NHM', 'NHQ', 'NHW', 'NMX', 'OXK', 'QHD', 'RMW', 'S0N', 'SCA', 'SCD', 'SCO', 'SDX', 'SOP', 'T1G', 'TC6', 'TUY', 'WCA', 'YNC', 'ZOZ']\n",
      "Coenzyme B ['SHT', 'TP7', 'TPZ', 'TXZ', 'XP8', 'XP9']\n",
      "Flavin Mononucleotide ['4LS', '4LU', '9O9', '9P3', '9PF', '9Q6', '9QF', 'F7F', 'FMN', 'FNR', 'FNS', 'IRF', 'RBF']\n",
      "Menaquinone ['MQ7']\n",
      "Coenzyme M ['COM']\n",
      "Heme ['1FH', '2FH', '522', '6HE', '76R', '7HE', 'BW9', 'CCH', 'COH', 'CV0', 'DDH', 'DHE', 'F0L', 'F0X', 'FDD', 'FDE', 'FEC', 'FMI', 'H02', 'HAS', 'HDD', 'HDE', 'HEA', 'HEB', 'HEC', 'HEM', 'HEO', 'HEV', 'HIF', 'HP5', 'ISW', 'MH0', 'MI9', 'MNH', 'MNR', 'MP1', 'N7H', 'OBV', 'PP9', 'SH0', 'SIR', 'SRM', 'UFE', 'VEA', 'VER', 'VOV', 'ZEM', 'ZNH']\n",
      "Biopterin ['4AB', '7AP', 'BHS', 'BIO', 'H2B', 'H4B', 'HBI', 'WSD']\n",
      "Pyrroloquinoline Quinone ['PQQ']\n",
      "Biotin ['BC4', 'BTI', 'BTN', 'BYT', 'DTB', 'Y7Y']\n",
      "Lipoic acid ['LPA', 'LPB']\n",
      "Ubiquinone ['4YP', '9BL', 'AT5', 'DBT', 'RQX', 'UHD', 'UQ1', 'UQ2', 'UQ5', 'UQ6']\n",
      "Glutathione ['0HG', '0HH', '1JO', '1JP', '1R4', '3GC', '48T', '5AU', '6SG', 'ABY', 'AHE', 'ATA', 'BOB', 'BWS', 'BYG', 'EPY', 'ESG', 'GBI', 'GBP', 'GBX', 'GDN', 'GDS', 'GF5', 'GGC', 'GIP', 'GNB', 'GPR', 'GPS', 'GS8', 'GSB', 'GSF', 'GSH', 'GSM', 'GSN', 'GSO', 'GTB', 'GTD', 'GTS', 'GTX', 'GTY', 'GVX', 'HAG', 'HGS', 'IBG', 'ICY', 'JM2', 'JM5', 'JM7', 'L9X', 'LEE', 'LZ6', 'P9H', 'RGE', 'TGG', 'TS5', 'VWW', 'ZBF']\n",
      "Orthoquinone residues (LTQ, TTQ, CTQ) ['0AF', 'TOQ', 'TQQ', 'TRQ']\n",
      "S-adenosylmethionine ['0UM', '0XU', '0Y0', '0Y1', '0Y2', '36A', '37H', '4IK', '62X', '6D6', '6NR', '76H', '76J', '76K', '76L', '76M', 'AN6', 'EEM', 'K15', 'P2J', 'SA8', 'SAH', 'SAM', 'SFG', 'SMM', 'SX0', 'TT8']\n",
      "Thiamine diphosphate ['1TP', '1U0', '2TP', '5GY', '5SR', '8EF', '8EL', '8EO', '8FL', '8ML', '8N9', '8PA', 'A5X', 'D7K', 'EN0', 'HTL', 'M6T', 'N1T', 'N3T', 'NDQ', 'O2T', 'QSP', 'R1T', 'S1T', 'T5X', 'T6F', 'TD5', 'TD6', 'TD7', 'TD8', 'TD9', 'TDK', 'TDL', 'TDM', 'TDN', 'TDP', 'TDW', 'THD', 'THV', 'THW', 'THY', 'TOG', 'TOI', 'TP8', 'TPP', 'TPU', 'TPW', 'TZD', 'WWF', 'ZP1']\n",
      "Pyridoxal 5'-phosphate ['EM2', 'MPL', 'NOP', 'NPL', 'PDP', 'PLP', 'PLR', 'PMP', 'PXP', 'PZP', 'UAH', 'X04']\n",
      "Topaquinone ['1TY', '2TY', '3TY', '4HL', 'AGQ', 'ESB', 'G27', 'HCC', 'P2Q', 'P3Q', 'PAQ', 'T0I', 'TPQ', 'TTS', 'TYQ', 'TYY', 'YPZ']\n"
     ]
    }
   ],
   "source": [
    "cofactors_list = []\n",
    "cofactors_dict = {}\n",
    "for k in data.keys():\n",
    "    cf = data[k][0]['cofactors']\n",
    "    if cf[0] is not None:\n",
    "        cofactors_list += cf\n",
    "        print(k, cf)\n",
    "        cofactors_dict[k] = cf"
   ]
  },
  {
   "cell_type": "code",
   "execution_count": null,
   "metadata": {},
   "outputs": [],
   "source": [
    "F = open('{0}/cofactor_ids.txt'.format(PATH_main), 'w')\n",
    "for cf in sorted(cofactors_list):\n",
    "    F.write('{0}\\n'.format(cf))\n",
    "F.close()"
   ]
  },
  {
   "cell_type": "code",
   "execution_count": 47,
   "metadata": {},
   "outputs": [
    {
     "name": "stdout",
     "output_type": "stream",
     "text": [
      "1l5r {'700': ('IC50', '=', 0.145, 'uM', 6.838631997765025), 'RBF': ('Kd', '=', 17.0, 'uM', 4.769551078621726)}\n",
      "1swk {'BTN': ('Ka', '~', 1000000000000.0, 'M^-1', 12.0), 'BTQ': ('Ka', '~', 1000000000000.0, 'M^-1', 12.0)}\n",
      "1swp {'BTN': ('Ka', '=', 100000000.0, 'M^-1', 8.0), 'BTQ': ('Ka', '=', 100000000.0, 'M^-1', 8.0)}\n",
      "1u7t {'NAD': ('Ki', '=', 425.0, 'uM', 3.3716110699496884), 'TDT': ('IC50', '=', 0.092, 'uM', 7.036212172654444)}\n",
      "2du8 {'BEZ': ('Ki', '=', 7.0, 'uM', 5.154901959985743), 'FAD': ('Kd', '=', 8.0, 'uM', 5.096910013008056)}\n",
      "2f01 {'BTN': ('Kd', '~', 1e-07, 'uM', 13.0), 'BTQ': ('Kd', '~', 1e-07, 'uM', 13.0)}\n",
      "2gh7 {'BTN': ('Kd', '~', 1e-07, 'uM', 13.0), 'BTQ': ('Kd', '~', 1e-07, 'uM', 13.0)}\n",
      "2imd {'2C2': ('Kd', '=', 19.0, 'uM', 4.721246399047171), 'GSH': ('Kd', '=', 14.0, 'uM', 4.853871964321762), 'TOH': ('Ki', '=', 136.0, 'uM', 3.8664610916297826)}\n",
      "2ime {'2C2': ('Kd', '=', 19.0, 'uM', 4.721246399047171), 'GSH': ('Kd', '=', 14.0, 'uM', 4.853871964321762), 'TOH': ('Ki', '=', 136.0, 'uM', 3.8664610916297826)}\n",
      "2ofp {'NAP': ('Kd', '=', 9.4, 'uM', 5.026872146400302), 'PAF': ('Kd', '=', 160.0, 'uM', 3.7958800173440754)}\n",
      "2oo0 {'PLP': ('Kd', '=', 0.05, 'uM', 7.301029995663981), 'XAP': ('Ki', '=', 0.0014, 'uM', 8.853871964321762)}\n",
      "2oor {'NAD': ('Kd', '=', 300.0, 'uM', 3.5228787452803374), 'TXP': ('Kd', '=', 27.0, 'uM', 4.568636235841013)}\n",
      "2w9g {'NDP': ('Kd', '=', 0.0081, 'uM', 8.09151498112135), 'TOP': ('Kd', '=', 0.0009699999999999999, 'uM', 9.013228265733755)}\n",
      "2w9s {'NDP': ('Kd', '=', 2.37, 'uM', 5.6252516539898965), 'TOP': ('Kd', '=', 0.73, 'uM', 6.136677139879544)}\n",
      "2xnj {'FAD': ('Kd', '=', 0.0011, 'uM', 8.958607314841775), 'NAP': ('Kd', '=', 7.5, 'uM', 5.1249387366083)}\n",
      "3efs {'ATP': ('Kd', '=', 7.2, 'uM', 5.142667503568732), 'BTN': ('Kd', '=', 3.5, 'uM', 5.455931955649724)}\n",
      "3gr6 {'NAP': ('Kd', '=', 18.6, 'uM', 4.730487055782084), 'TCL': ('Kd', '=', 0.00292, 'uM', 8.534617148551582)}\n",
      "3lgs {'ADE': ('Kd', '=', 1.7, 'uM', 5.769551078621726), 'SAH': ('Kd', '=', 24.8, 'uM', 4.605548319173784)}\n",
      "4pio {'SAH': ('Kd', '=', 210.0, 'uM', 3.677780705266081), 'AVI': ('Kd', '=', 2.0, 'uM', 5.698970004336019)}\n",
      "4w6z {'ETF': ('Ki', '=', 2800.0, 'uM', 2.5528419686577806), '8ID': ('Kd', '=', 920.0, 'uM', 3.036212172654445)}\n",
      "5ha7 {'NAP': ('Kd', '=', 0.21, 'uM', 6.6777807052660805), 'WY1': ('Kd', '=', 0.104, 'uM', 6.982966660701219)}\n",
      "5kcp {'PFB': ('Ki', '=', 740.0, 'uM', 3.1307682802690238), 'NAJ': ('Kd', '=', 15.0, 'uM', 4.823908740944319)}\n",
      "5kcz {'NAJ': ('Kd', '=', 15.0, 'uM', 4.823908740944319), 'ETF': ('Ki', '=', 98.0, 'uM', 4.008773924307505)}\n"
     ]
    }
   ],
   "source": [
    "# check the presense of cofactors in bindingmoad (only if there are > 1 ligands in the complex)\n",
    "for pdbcode in pdbcodes_bindingmoad:\n",
    "    if len(bindingmoad_index[pdbcode]) > 1:\n",
    "        has_cofactor = False\n",
    "        for k in bindingmoad_index[pdbcode].keys():\n",
    "            if k in cofactors_list:\n",
    "                has_cofactor = True\n",
    "        if has_cofactor:\n",
    "            print (pdbcode, bindingmoad_index[pdbcode])"
   ]
  },
  {
   "cell_type": "markdown",
   "metadata": {},
   "source": [
    "# Create a join structure-only dataset from PDBBind and BindingMOAD"
   ]
  },
  {
   "cell_type": "markdown",
   "metadata": {},
   "source": [
    "- by definition of PDBBind and Binding MOAD, resolution and R-factor are already OK.\n",
    "\n",
    "What we want here:\n",
    "\n",
    "- good rscc\n",
    "- no Mogul bond length outliers\n",
    "- PDBBind has priority\n",
    "- for multichain assemblies in BindingMOAD, download them from PDBe\n",
    "\n",
    "To use validation reports, I downloaded all of them in advance (see `new_dataset_routines.py`)."
   ]
  },
  {
   "cell_type": "code",
   "execution_count": 88,
   "metadata": {},
   "outputs": [],
   "source": [
    "bad_rsccs = []\n",
    "bad_outliers = []"
   ]
  },
  {
   "cell_type": "markdown",
   "metadata": {},
   "source": [
    "#### Also see bad_bm2 below after cf and modres sections!!!"
   ]
  },
  {
   "cell_type": "code",
   "execution_count": 767,
   "metadata": {},
   "outputs": [],
   "source": [
    "# this is an array that I manually filled after encountering some problematic complexes\n",
    "bad_bm = ['1v97', '4zhh', '5gza',\n",
    "          # these are bad because of chain/seq name...\n",
    "         '6udy', '6udx', '6u6w', '6u5m', '6ten', '6tel', '6sgf', '6sfc', '6rt6', '6rqk', '6rfw', '6r7d', '6qxg', '6qmr', '6qdx', '6q9y', '6q9s', '6q3z', '6pu7', '6pu3', '6prg', '6pre', '6pic', '6pia', '6pi5', '6pi1', '6pgu', '6pg8', '6pg3', '6peb', '6ow7', '6oqc', '6oo6', '6onr', '6ong', '6ofq', '6od6', '6o95', '6o94', '6o8u', '6o6f', '6nyh', '6nw3', '6nv7', '6npv', '6nor', '6nne', '6nmb', '6n7a', '6n19', '6n17', '6n0p', '6mxb', '6mtu', '6msc', '6mlj', '6mh7', '6mh1', '6mdc', '6mdb', '6md8', '6jtc', '6jn6', '6jcl', '6j3p', '6j3o', '6iyk', '6itj', '6im4', '6i0z', '6hzv', '6hwo', '6hk3', '6hdu', '6haj', '6h4x', '6h4v', '6h4t', '6h4s', '6h4q', '6h4p', '6h4o', '6h1t', '6gwe', '6gvx', '6gtz', '6gty', '6gno', '6gj5', '6ghv', '6g5q', '6g2s', '6g2r', '6f8n', '6exq', '6ex8', '6e3g', '6e23', '6e22', '6e1y', '6dzx', '6dyu', '6dmf', '6djd', '6die', '6dha', '6dd1', '6dd0', '6d49', '6d3q', '6bgc', '6b0z', '6av6', '6agt', '6a8n', '5zg0', '5zcu', '5z75', '5z2l', '5ysf', '5ysd', '5yj1', '5yj0', '5yd5', '5yd4', '5yd3', '5ybg', '5ybf', '5yak', '5y8t', '5xfv', '5x80', '5x66', '5x5m', '5x5d', '5wkc', '5w3y', '5vl0', '5utq', '5utp', '5uoc', '5uo8', '5uf4', '5uf1', '5u8w', '5u8v', '5u8u', '5u1q', '5u06', '5tz1', '5tyi', '5tf9', '5tdc', '5t5j', '5swb', '5osx', '5od2', '5o6h', '5ncf', '5mzk', '5mtp', '5mt9', '5mt3', '5mam', '5m3z', '5lq1', '5ldq', '5k7g', '5j5i', '5j5g', '5j5f', '5ixe', '5iki', '5i7a', '5i3k', '5hjg', '5gzk', '5gwe', '5gie', '5g4r', '5fv9', '5fu3', '5fre', '5fp3', '5fjn', '5fa6', '5ek3', '5e58', '5dvi', '5duv', '5d40', '5d3u', '5cty', '5ctx', '5chr', '5chq', '5c8w', '5c79', '5c6c', '5c03', '5bxs', '5adv', '5ab7', '4zze', '4zs4', '4zhc', '4zb9', '4z76', '4yvx', '4ym1', '4ylz', '4yhi', '4y14', '4xwy', '4xrz', '4xry', '4wqq', '4w5i', '4ur9', '4up4', '4uhl', '4rut', '4r6n', '4r57', '4r08', '4qzu', '4qzt', '4qyn', '4qsj', '4q9n', '4pfy', '4p8p', '4p8m', '4p8c', '4otj', '4ooe', '4oit', '4nz2', '4n9i', '4mxo', '4m11', '4l77', '4l6g', '4kew', '4k9w', '4k4b', '4k4a', '4jvr', '4jvn', '4jvm', '4jor', '4j36', '4isk', '4ijv', '4hwk', '4hog', '4hoe', '4h97', '4gh8', '4ego', '4du2', '4dbw', '4d4c', '4d45', '4d43', '4d42', '4d41', '4cq8', '4co1', '4co0', '4cfn', '4c7k', '4c7j', '4buy', '4bux', '4buw', '4buv', '4but', '4bus', '4bui', '4buf', '4bu9', '4bu8', '4bu6', '4btj', '4bqp', '4bqo', '4bnn', '4bnl', '4bnj', '4bng', '4al9', '4a3r', '3zk5', '3u4s', '3td3', '3lex', '3g1r', '3en6', '3aj6', '2zhl', '2z93', '2yoo', '2xon', '2xnv', '2wt2', '2wr9', '2wpf', '2wpe', '2wp6', '2wdb', '2w1u', '2fs4', '2fav', '2cjp', '2cb8', '1zhs', '1z8a', '1y7l', '1w9o', '1lax', '1f06'\n",
    "         ]\n",
    "multilig_bm = []\n",
    "bad_rsccs_bm = []\n",
    "bad_outliers_bm = []\n",
    "pdbcodes_ligcodes_bm_not_pb_good = []\n",
    "\n",
    "for pdbcode in pdbcodes_both_all:\n",
    "    if pdbcode in pdbcodes_pdbbind:\n",
    "        cur_lig = pdbbind_index[pdbcode]\n",
    "#         cur_rscc = []\n",
    "#         val_info = []\n",
    "#         ks = list(cur_lig.keys())\n",
    "#         for ligcode in ks[0].split():\n",
    "#             rscc_cur = UTILS.get_rscc_from_validation_info(pdbcode, ligcode, '', '', '', True, True, True)\n",
    "#             if rscc_cur is not None and rscc_cur != 'no density':\n",
    "#                 cur_rscc.append(rscc_cur)\n",
    "#             val_info_ = UTILS.get_outliers_validation_info(pdbcode, ligcode, '', '', '', 15., True, True, True)\n",
    "#             if val_info is not None and val_info_ != {}:\n",
    "#                 val_info.append(val_info_)\n",
    "#         if cur_rscc != []:\n",
    "#             if np.mean(cur_rscc) < 0.8:\n",
    "#                 print(pdbcode, ks[0], np.mean(cur_rscc))\n",
    "#                 bad_rsccs.append(pdbcode)\n",
    "#                 continue\n",
    "#         if val_info != []:\n",
    "#             print(pdbcode, ks[0], val_info)\n",
    "#             bad_outliers.append(pdbcode)\n",
    "    else:\n",
    "        if pdbcode in bad_bm:\n",
    "            continue\n",
    "        if len(bindingmoad_index_detailed[pdbcode]) > 1:\n",
    "            multilig_bm.append(pdbcode)\n",
    "            continue\n",
    "        for ks in bindingmoad_index_detailed[pdbcode]:\n",
    "            cur_lig = bindingmoad_index_detailed[pdbcode][ks][0]\n",
    "            c_id, r_id = cur_lig[0], cur_lig[1]\n",
    "            cur_rscc = []\n",
    "            val_info = []\n",
    "            for ligcode in ks.split():\n",
    "                rscc_cur = UTILS.get_rscc_from_validation_info(pdbcode, ligcode, c_id, '', r_id, False, True, False)\n",
    "                if rscc_cur is not None and rscc_cur != 'no density':\n",
    "                    cur_rscc.append(rscc_cur)\n",
    "                val_info_ = UTILS.get_outliers_validation_info(pdbcode, ligcode, c_id, '', r_id, 15., False, True, False)\n",
    "                if val_info is not None and val_info_ != {}:\n",
    "                    val_info.append(val_info_)\n",
    "                r_id += 1\n",
    "            c_id, r_id = cur_lig[0], cur_lig[1]\n",
    "            if cur_rscc != []:\n",
    "                if np.min(cur_rscc) < 0.8:\n",
    "                    print(pdbcode, ks, np.min(cur_rscc), np.mean(cur_rscc))  # , cur_lig)\n",
    "                    bad_rsccs_bm.append(pdbcode)\n",
    "                    continue\n",
    "            if val_info != []:\n",
    "                print(pdbcode, ks, val_info)\n",
    "                bad_outliers_bm.append(pdbcode)\n",
    "            pdbcodes_ligcodes_bm_not_pb_good.append([pdbcode, len(ks.split()), ks, c_id, r_id])\n",
    "\n",
    "print(len(bad_rsccs), len(bad_outliers))\n",
    "print(len(bad_rsccs_bm), len(bad_outliers_bm))"
   ]
  },
  {
   "cell_type": "code",
   "execution_count": 695,
   "metadata": {},
   "outputs": [
    {
     "name": "stdout",
     "output_type": "stream",
     "text": [
      "19717\n"
     ]
    }
   ],
   "source": [
    "joint_bad = bad_rsccs + bad_outliers + bad_rsccs_bm + bad_outliers_bm + bad_bm + multilig_bm\n",
    "ok_pb_bm_joint_pdbcodes = []\n",
    "for pdbcode in pdbcodes_both_all:\n",
    "    if pdbcode not in joint_bad:\n",
    "        ok_pb_bm_joint_pdbcodes.append(pdbcode)\n",
    "\n",
    "print(len(ok_pb_bm_joint_pdbcodes))"
   ]
  },
  {
   "cell_type": "code",
   "execution_count": 690,
   "metadata": {},
   "outputs": [
    {
     "name": "stdout",
     "output_type": "stream",
     "text": [
      "[1714, 325, 82]\n"
     ]
    }
   ],
   "source": [
    "print([len(e) for e in [bad_rsccs + bad_outliers + bad_rsccs_bm + bad_outliers_bm, bad_bm, multilig_bm]])"
   ]
  },
  {
   "cell_type": "code",
   "execution_count": 144,
   "metadata": {},
   "outputs": [
    {
     "name": "stdout",
     "output_type": "stream",
     "text": [
      "16330 3387\n"
     ]
    }
   ],
   "source": [
    "pdbcodes_pb_good = []\n",
    "pdbcodes_bm_not_pb_good = []\n",
    "for pdbcode in pdbcodes_both_all:\n",
    "    if pdbcode in pdbcodes_pdbbind:\n",
    "        if pdbcode not in bad_rsccs and pdbcode not in bad_outliers:\n",
    "            pdbcodes_pb_good.append(pdbcode)\n",
    "    else:\n",
    "        if pdbcode not in bad_rsccs_bm and pdbcode not in bad_outliers_bm and pdbcode not in bad_bm \\\n",
    "            and pdbcode not in multilig_bm:\n",
    "            pdbcodes_bm_not_pb_good.append(pdbcode)\n",
    "print(len(pdbcodes_pb_good), len(pdbcodes_bm_not_pb_good))\n",
    "UTILS.write_ids(pdbcodes_pb_good, '{0}pdbcodes_pb_good.txt'.format(PATH_main))\n",
    "UTILS.write_ids(pdbcodes_bm_not_pb_good, '{0}pdbcodes_bm_not_pb_good.txt'.format(PATH_main))\n",
    "UTILS.write_ids([' '.join([str(e) for e in ele]) for ele in pdbcodes_ligcodes_bm_not_pb_good],\n",
    "                '{0}pdbcodes_ligcodes_bm_not_pb_good.txt'.format(PATH_main))"
   ]
  },
  {
   "cell_type": "code",
   "execution_count": 145,
   "metadata": {},
   "outputs": [],
   "source": [
    "UTILS.write_ids(pdbcodes_bindingmoad, '{0}pdbcodes_bindingmoad.txt'.format(PATH_main))"
   ]
  },
  {
   "cell_type": "markdown",
   "metadata": {},
   "source": [
    "Later we'll remove the PDBBind Core"
   ]
  },
  {
   "cell_type": "code",
   "execution_count": 577,
   "metadata": {},
   "outputs": [
    {
     "name": "stdout",
     "output_type": "stream",
     "text": [
      "184\n",
      "269\n"
     ]
    }
   ],
   "source": [
    "casf_2013 = UTILS.read_ids('{0}casf_2013_codes.dat'.format(PATH_data))\n",
    "casf_2016 = UTILS.read_ids('{0}casf_2016_codes.dat'.format(PATH_data))\n",
    "print(len(set(pdbcodes_pb_good).intersection(set(casf_2013))))\n",
    "print(len(set(pdbcodes_pb_good).intersection(set(casf_2016))))\n"
   ]
  },
  {
   "cell_type": "markdown",
   "metadata": {},
   "source": [
    "# Dataset from PDB with cofactors and modified residues"
   ]
  },
  {
   "cell_type": "markdown",
   "metadata": {},
   "source": [
    "### Helpers\n",
    "read the information from intermediate files that we generate in this notebook"
   ]
  },
  {
   "cell_type": "code",
   "execution_count": 27,
   "metadata": {},
   "outputs": [],
   "source": [
    "def get_complex_info():\n",
    "    \"\"\"\n",
    "    Parse the precomputed information on complex' cofactors, ligands and their quality.\n",
    "    :return:\n",
    "    \"\"\"\n",
    "    lig_info = {}\n",
    "\n",
    "    with open('/home/maria/data/combined_dataset/lig_info.txt') as F:\n",
    "        for ln_ in F:\n",
    "            ln = ln_.replace('\\n', '').replace('no density', 'no_density').split()\n",
    "            pdbcode, ligcode, c_id, sa_id, res_id, is_carb, rscc_cur = ln\n",
    "            if pdbcode not in lig_info.keys():\n",
    "                lig_info[pdbcode] = {}\n",
    "            if rscc_cur == 'None':\n",
    "                rscc_cur = None\n",
    "            elif rscc_cur != 'no_density':\n",
    "                rscc_cur = float(rscc_cur)\n",
    "\n",
    "            lig_info[pdbcode][(ligcode, c_id, sa_id, int(res_id))] = [ligcode, c_id, sa_id, int(res_id), bool(is_carb), rscc_cur]\n",
    "\n",
    "    no_density = UTILS.read_counter('/home/maria/data/combined_dataset/no_density.txt')\n",
    "    ok_rscc = UTILS.read_counter('/home/maria/data/combined_dataset/ok_rscc.txt')\n",
    "\n",
    "    return sorted(lig_info.keys()), lig_info, ok_rscc, no_density\n",
    "\n",
    "\n",
    "def get_complex_info_mr():\n",
    "    \"\"\"\n",
    "    Parse the precomputed information on complex' modified residues, ligands and their quality.\n",
    "    :return:\n",
    "    \"\"\"\n",
    "    lig_info = {}\n",
    "    mr_info = {}\n",
    "\n",
    "    with open('/home/maria/data/combined_dataset/lig_info_mr.txt') as F:\n",
    "        for ln_ in F:\n",
    "            ln = ln_.replace('\\n', '').replace('no density', 'no_density').split()\n",
    "            pdbcode, ligcode, c_id, sa_id, res_id, is_carb, rscc_cur = ln\n",
    "            if pdbcode not in lig_info.keys():\n",
    "                lig_info[pdbcode] = {}\n",
    "            if rscc_cur == 'None':\n",
    "                rscc_cur = None\n",
    "            elif rscc_cur != 'no_density':\n",
    "                rscc_cur = float(rscc_cur)\n",
    "\n",
    "            lig_info[pdbcode][(ligcode, c_id, sa_id, int(res_id))] = [ligcode, c_id, sa_id, int(res_id), bool(is_carb), rscc_cur]\n",
    "\n",
    "    no_density = UTILS.read_counter('/home/maria/data/combined_dataset/no_density_mr.txt')\n",
    "    ok_rscc = UTILS.read_counter('/home/maria/data/combined_dataset/ok_rscc_mr.txt')\n",
    "\n",
    "    with open('/home/maria/data/combined_dataset/info_residues.txt') as F:\n",
    "        for ln_ in F:\n",
    "            ln = ln_.replace('\\n', '').replace('no density', 'no_density').split()\n",
    "            pdbcode, ligcode, c_id, sa_id, res_id, rscc_cur = ln\n",
    "            if pdbcode not in mr_info.keys():\n",
    "                mr_info[pdbcode] = {}\n",
    "            if rscc_cur == 'None':\n",
    "                rscc_cur = None\n",
    "            elif rscc_cur != 'no_density':\n",
    "                rscc_cur = float(rscc_cur)\n",
    "\n",
    "            mr_info[pdbcode][(ligcode, c_id, sa_id, int(res_id))] = [ligcode, c_id, sa_id, int(res_id), rscc_cur]\n",
    "\n",
    "    no_density_mr = UTILS.read_counter('/home/maria/data/combined_dataset/no_density_residues.txt')\n",
    "    ok_rscc_mr = UTILS.read_counter('/home/maria/data/combined_dataset/ok_rscc_residues.txt')\n",
    "\n",
    "    valid_keys = set(lig_info.keys()).intersection(set(mr_info.keys()))\n",
    "\n",
    "    return sorted(list(valid_keys)), lig_info, ok_rscc, no_density, mr_info, ok_rscc_mr, no_density_mr\n"
   ]
  },
  {
   "cell_type": "markdown",
   "metadata": {},
   "source": [
    "## Cofactors\n",
    "### First of all, get a list of proteins with cofactors and at least one different non-solvent ligand\n",
    "Some of these can be also excluded https://en.wikipedia.org/wiki/Good%27s_buffers.\n",
    "Although in some cases they can act as functional ligands. EPE, for example.\n",
    "Also, there is a dictionary created by VHELIBS. But it is mostly created for active ligands, and therefore contains not only solvents, but also cofactors and other molecules."
   ]
  },
  {
   "cell_type": "code",
   "execution_count": 317,
   "metadata": {},
   "outputs": [],
   "source": [
    "solvents = ['HOH', 'K', 'NA', 'CL', 'FES', 'FEM', \n",
    "            'O', 'OEX', 'GD', 'XE', 'MN', 'CD', 'HG', 'F3S', 'OH',\n",
    "            'SO4', 'ACT', 'ACY', 'GOL', 'TRS', 'BTB', 'PG0', 'PEG', 'EDO',\n",
    "            'TLA', 'GOL', 'SO4', 'EDO', 'TAR', 'ACT', 'DMS', 'ASN', 'LPD', 'IPA',\n",
    "            'PGE', 'PG4', 'CMO', 'NO', '1PE', 'P6G', 'DOD', '06C', 'BME', 'FMT', 'SF4']\n",
    "metals = ['CA', 'MG', 'FE', 'ZN', 'MG', 'CO', 'MO']\n",
    "# OXY -- leave it as is for HEM?...\n",
    "# EOH -- ethanol -- leave it as is?..."
   ]
  },
  {
   "cell_type": "markdown",
   "metadata": {},
   "source": [
    "First of all, filter the complexes with\n",
    "- resolution < 3\n",
    "- non-ionic ligands and cofactors"
   ]
  },
  {
   "cell_type": "code",
   "execution_count": 21,
   "metadata": {},
   "outputs": [],
   "source": [
    "ok_pdbs = []\n",
    "mol_n_atoms = {}\n",
    "lig_counts = Counter()"
   ]
  },
  {
   "cell_type": "code",
   "execution_count": 132,
   "metadata": {},
   "outputs": [
    {
     "data": {
      "text/plain": [
       "25"
      ]
     },
     "execution_count": 132,
     "metadata": {},
     "output_type": "execute_result"
    }
   ],
   "source": [
    "cofactors_list.index('NAP')"
   ]
  },
  {
   "cell_type": "code",
   "execution_count": 768,
   "metadata": {},
   "outputs": [],
   "source": [
    "for cf in cofactors_list[191:]:\n",
    "    get_url = 'https://www.ebi.ac.uk/pdbe/api/pdb/compound/in_pdb/{0}'.format(cf)\n",
    "    resp_data = UTILS.json_from_url(get_url)\n",
    "    if resp_data is None:\n",
    "        continue\n",
    "    pdbcodes = resp_data[cf]\n",
    "    for pdbcode in pdbcodes:\n",
    "        if pdbcode in ok_pdbs:  # not to waste time if we run this cell once again\n",
    "            continue\n",
    "        exp_info = UTILS.json_from_url('https://www.ebi.ac.uk/pdbe/api/pdb/entry/experiment/{0}'.format(pdbcode))\n",
    "        if 'resolution_high' in exp_info[pdbcode][0]:\n",
    "            if exp_info[pdbcode][0]['resolution_high'] is not None and exp_info[pdbcode][0]['resolution_high'] >= 3.0:\n",
    "                continue\n",
    "        p_ligs = UTILS.json_from_url('https://www.ebi.ac.uk/pdbe/api/pdb/entry/ligand_monomers/{0}'.format(pdbcode))\n",
    "        p_ligs = p_ligs[pdbcode]\n",
    "        ok_ligs = []\n",
    "        for i in range(len(p_ligs)):\n",
    "            lig_name = p_ligs[i]['chem_comp_id']\n",
    "            if lig_name == cf:\n",
    "                continue\n",
    "            if 'ION' in p_ligs[i]['chem_comp_name']:\n",
    "                continue\n",
    "            elif lig_name in solvents:\n",
    "                continue\n",
    "#             if lig_name not in mol_n_atoms:\n",
    "#                 lig_data = json_from_url('https://www.ebi.ac.uk/pdbe/api/pdb/compound/summary/{0}'.format(lig_name))\n",
    "#                 n_atoms = len(re.sub(r'H|@|\\(|\\)|#|\\[|\\]|=|\\d', '', lig_data[lig_name][0]['smiles'][0]['name']))\n",
    "#                 mol_n_atoms[lig_name] = n_atoms\n",
    "#             if mol_n_atoms[lig_name] < 5:\n",
    "#                 print('small molecule!', lig_name)\n",
    "            ok_ligs.append(p_ligs[i]['chem_comp_id'])\n",
    "        ok_ligs = sorted(list(set(ok_ligs)))\n",
    "        for ok_lig in ok_ligs:\n",
    "            lig_counts[ok_lig] += 1\n",
    "        if len(ok_ligs) > 0:\n",
    "            print(cf, pdbcode, ok_ligs)\n",
    "            ok_pdbs.append(pdbcode)\n",
    "    print([ele for ele in sorted(lig_counts.items(), key=lambda a: -a[1]) if ele[0] not in cofactors_list][:15])"
   ]
  },
  {
   "cell_type": "code",
   "execution_count": 118,
   "metadata": {},
   "outputs": [
    {
     "data": {
      "text/plain": [
       "'cncccnncnCCCCOCOPOOOPOOOPOOOOON'"
      ]
     },
     "execution_count": 118,
     "metadata": {},
     "output_type": "execute_result"
    }
   ],
   "source": [
    "re.sub(r'H|@|\\(|\\)|#|\\[|\\]|=|\\d', '', \"c1nc(c2c(n1)n(cn2)[C@H]3[C@@H]([C#@@H]([C@H](O3)CO[P@@](=O)(O)O[P@](=O)(O)OP(=O)(O)O)O)O)N\")"
   ]
  },
  {
   "cell_type": "code",
   "execution_count": 765,
   "metadata": {},
   "outputs": [
    {
     "name": "stdout",
     "output_type": "stream",
     "text": [
      "9567\n"
     ]
    }
   ],
   "source": [
    "print(len(ok_pdbs))"
   ]
  },
  {
   "cell_type": "markdown",
   "metadata": {},
   "source": [
    "Save information on chains and small molecules to avoid manual cif parsing"
   ]
  },
  {
   "cell_type": "code",
   "execution_count": 22,
   "metadata": {},
   "outputs": [],
   "source": [
    "UTILS.write_ids(ok_pdb, '/home/maria/data/combined_dataset/cofactor_proteins_cur.txt')"
   ]
  },
  {
   "cell_type": "markdown",
   "metadata": {},
   "source": [
    "### Now, get the ligand information\n",
    "RSCC check based on validation reports, check whether a ligand is a polymer and etc"
   ]
  },
  {
   "cell_type": "code",
   "execution_count": 246,
   "metadata": {},
   "outputs": [],
   "source": [
    "ok_rscc = Counter()\n",
    "lig_info = {}\n",
    "no_density = Counter()"
   ]
  },
  {
   "cell_type": "code",
   "execution_count": 769,
   "metadata": {},
   "outputs": [],
   "source": [
    "for p in ok_pdbs:\n",
    "    ligs_data = UTILS.json_from_url('https://www.ebi.ac.uk/pdbe/api/pdb/entry/ligand_monomers/{0}'.format(p))[p]\n",
    "    for lig_entry in ligs_data:\n",
    "        ligcode = lig_entry['chem_comp_id']\n",
    "        c_id = lig_entry['chain_id']\n",
    "        is_carb = lig_entry['carbohydrate_polymer']\n",
    "        res_id = lig_entry['author_residue_number']\n",
    "        sa_id = lig_entry['struct_asym_id']\n",
    "        if ligcode in solvents:\n",
    "            continue\n",
    "        rscc_cur = UTILS.get_rscc_from_validation_info(p, ligcode, c_id, sa_id, res_id)\n",
    "        if rscc_cur is None:\n",
    "            print('A PROBLEM', p, lig_entry)\n",
    "        else:\n",
    "            if rscc_cur == 'no density':\n",
    "                no_density[p] += 1\n",
    "            elif rscc_cur > 0.8:\n",
    "                ok_rscc[p] += 1\n",
    "        if p not in lig_info.keys():\n",
    "            lig_info[p] = {}\n",
    "        lig_info[p][(ligcode, c_id, sa_id, res_id)] = [ligcode, c_id, sa_id, res_id, is_carb, rscc_cur]"
   ]
  },
  {
   "cell_type": "code",
   "execution_count": 203,
   "metadata": {},
   "outputs": [
    {
     "data": {
      "text/plain": [
       "8466"
      ]
     },
     "execution_count": 203,
     "metadata": {},
     "output_type": "execute_result"
    }
   ],
   "source": [
    "len(ok_rscc)"
   ]
  },
  {
   "cell_type": "markdown",
   "metadata": {},
   "source": [
    "Save information about RSCCs"
   ]
  },
  {
   "cell_type": "code",
   "execution_count": 208,
   "metadata": {},
   "outputs": [],
   "source": [
    "UTILS.write_sorted_dict_simple(ok_rscc, '/home/maria/data/combined_dataset/ok_rscc.txt')\n",
    "UTILS.write_sorted_dict_simple(no_density, '/home/maria/data/combined_dataset/no_density.txt')"
   ]
  },
  {
   "cell_type": "code",
   "execution_count": 245,
   "metadata": {},
   "outputs": [],
   "source": [
    "F = open('/home/maria/data/combined_dataset/lig_info.txt', 'w')\n",
    "for k in sorted(list(lig_info.keys())):\n",
    "    for kl in sorted(list(lig_info[k].keys())):\n",
    "        ligcode, c_id, sa_id, res_id, is_carb, rscc_cur = lig_info[k][kl]\n",
    "        F.write('{0} {1} {2} {3} {4} {5} {6}\\n'.format(k, ligcode, c_id, sa_id, res_id, int(is_carb), rscc_cur))\n",
    "F.close()"
   ]
  },
  {
   "cell_type": "code",
   "execution_count": 213,
   "metadata": {},
   "outputs": [
    {
     "data": {
      "text/plain": [
       "8209"
      ]
     },
     "execution_count": 213,
     "metadata": {},
     "output_type": "execute_result"
    }
   ],
   "source": [
    "len([e for e in ok_rscc.keys() if ok_rscc[e] > 1])"
   ]
  },
  {
   "cell_type": "code",
   "execution_count": 28,
   "metadata": {},
   "outputs": [],
   "source": [
    "ok_rscc = UTILS.read_sorted_dict_simple('/home/maria/data/combined_dataset/ok_rscc.txt')\n",
    "no_density = UTILS.read_sorted_dict_simple('/home/maria/data/combined_dataset/no_density.txt')\n",
    "\n",
    "pdbcodes, lig_info, ok_rscc, no_density = get_complex_info()"
   ]
  },
  {
   "cell_type": "markdown",
   "metadata": {},
   "source": [
    "## Modified residues\n",
    "\n",
    "### Get a list of proteins with modified residues and at least one different non-solvent ligand"
   ]
  },
  {
   "cell_type": "markdown",
   "metadata": {},
   "source": [
    "### Create a dictionary of proteins with modified residues (with & without ligands)\n",
    "1) Download the list of all structures with resolution at ftp://ftp.wwpdb.org/pub/pdb/derived_data/index/resolu.idx. Filter them to remove non-protein structures.\n",
    "\n",
    "2) Scan all structures with OK resolution --> check if they have modified residues."
   ]
  },
  {
   "cell_type": "code",
   "execution_count": 293,
   "metadata": {},
   "outputs": [
    {
     "name": "stdout",
     "output_type": "stream",
     "text": [
      "['1MCD', '']\n",
      "['6BC9', '']\n",
      "['6NTI', '']\n",
      "['7A0L', '']\n",
      "146806\n"
     ]
    }
   ],
   "source": [
    "i_ln = 0\n",
    "prot_structures = set()\n",
    "ok_structures = []\n",
    "with open('{0}pdb_entry_type.txt'.format(PATH_main)) as F_pdb_type:\n",
    "    for ln_ in F_pdb_type:\n",
    "        ln = ln_.replace('\\n', '').split('\\t')[:2]\n",
    "        if ln[1] == 'prot':\n",
    "            prot_structures.add(ln[0].lower())\n",
    "        \n",
    "with open('{0}resolu.idx'.format(PATH_main), 'r') as F_all_pdb:\n",
    "    for ln_ in F_all_pdb:\n",
    "        i_ln += 1\n",
    "        if i_ln < 7:\n",
    "            continue\n",
    "#         if i_ln % 10000 == 0:\n",
    "#             print(i_ln)\n",
    "        ln = ln_.replace('\\n', '').replace('\\t', '').split(';')\n",
    "        try:\n",
    "            pdbcode, resol = ln[0].lower(), float(ln[1])\n",
    "        except ValueError:\n",
    "            print(ln)\n",
    "            continue\n",
    "        if pdbcode not in prot_structures:\n",
    "            continue\n",
    "#         overall_data = UTILS.json_from_url('https://www.ebi.ac.uk/pdbe/api/pdb/entry/summary/{0}'.format(pdbcode))[pdbcode]\n",
    "#         if overall_data[0]['number_of_entities']['polypeptide'] == 0:\n",
    "#             continue\n",
    "        if resol < 3.0:\n",
    "            ok_structures.append(pdbcode)\n",
    "print(len(ok_structures))"
   ]
  },
  {
   "cell_type": "code",
   "execution_count": 312,
   "metadata": {},
   "outputs": [],
   "source": [
    "UTILS.write_ids(ok_structures, '{0}all_pdb_ok_resolution.txt'.format(PATH_main))"
   ]
  },
  {
   "cell_type": "code",
   "execution_count": 306,
   "metadata": {},
   "outputs": [
    {
     "name": "stdout",
     "output_type": "stream",
     "text": [
      "0\n",
      "132l ['DM0', 'A', 1, 'A']\n",
      "132l ['MLY', 'A', 13, 'A']\n",
      "132l ['MLY', 'A', 33, 'A']\n",
      "132l ['MLY', 'A', 96, 'A']\n",
      "132l ['MLY', 'A', 116, 'A']\n",
      "148l ['FGA', 'S', 167, 'B']\n",
      "148l ['API', 'S', 169, 'B']\n",
      "148l ['DAL', 'S', 170, 'B']\n"
     ]
    }
   ],
   "source": [
    "# TODO check alternate_conformers!\n",
    "F = open('{0}has_mod_res.txt'.format(PATH_main), 'w')\n",
    "has_mod_res = {}\n",
    "for i_p, p in enumerate(ok_structures[:100]):\n",
    "    if i_p % 1000 == 0:\n",
    "        print(i_p)\n",
    "    mod_res_data = UTILS.json_from_url('https://www.ebi.ac.uk/pdbe/api/pdb/entry/modified_AA_or_NA/{0}'.format(p),\n",
    "                                verbose=False)\n",
    "    if mod_res_data is None:\n",
    "        continue\n",
    "#     print(p, mod_res_data)\n",
    "    has_mod_res[p] = []\n",
    "    for lig_entry in mod_res_data[p]:\n",
    "        ligcode = lig_entry['chem_comp_id']\n",
    "        c_id = lig_entry['chain_id']\n",
    "        res_id = lig_entry['author_residue_number']\n",
    "        sa_id = lig_entry['struct_asym_id']\n",
    "        F.write('{0} {1} {2} {3} {4}\\n'.format(p, ligcode, c_id, res_id, sa_id))\n",
    "        has_mod_res[p].append([ligcode, c_id, res_id, sa_id])\n",
    "        print(p, has_mod_res[p][-1])\n",
    "F.close()"
   ]
  },
  {
   "cell_type": "code",
   "execution_count": 316,
   "metadata": {},
   "outputs": [],
   "source": [
    "has_mod_res = {}\n",
    "with open('{0}has_mod_res.txt'.format(PATH_main), 'r') as F:\n",
    "    for ln_ in F:\n",
    "        ln = ln_.replace('\\n', '').split()\n",
    "        p = ln[0]\n",
    "        if p not in has_mod_res.keys():\n",
    "            has_mod_res[p] = []\n",
    "        has_mod_res[p].append([ln[1], ln[2], int(ln[3]), ln[4]])"
   ]
  },
  {
   "cell_type": "code",
   "execution_count": 318,
   "metadata": {},
   "outputs": [
    {
     "name": "stdout",
     "output_type": "stream",
     "text": [
      "20656\n"
     ]
    }
   ],
   "source": [
    "print(len(has_mod_res.keys()))"
   ]
  },
  {
   "cell_type": "markdown",
   "metadata": {},
   "source": [
    "### Check whether these proteins have ligands"
   ]
  },
  {
   "cell_type": "code",
   "execution_count": 319,
   "metadata": {},
   "outputs": [],
   "source": [
    "pdbcodes = sorted(list(has_mod_res.keys()))\n",
    "ok_pdbs_mp = []"
   ]
  },
  {
   "cell_type": "code",
   "execution_count": 770,
   "metadata": {},
   "outputs": [],
   "source": [
    "for pdbcode in pdbcodes:\n",
    "    if pdbcode in ok_pdbs_mp:  # not to fill it again if we run this cell again\n",
    "        continue\n",
    "    p_ligs = UTILS.json_from_url('https://www.ebi.ac.uk/pdbe/api/pdb/entry/ligand_monomers/{0}'.format(pdbcode))\n",
    "    p_ligs = p_ligs[pdbcode]\n",
    "    ok_ligs = []\n",
    "    for i in range(len(p_ligs)):\n",
    "        lig_name = p_ligs[i]['chem_comp_id']\n",
    "        if 'ION' in p_ligs[i]['chem_comp_name']:\n",
    "            continue\n",
    "        elif lig_name in solvents:\n",
    "            continue\n",
    "        ok_ligs.append(p_ligs[i]['chem_comp_id'])\n",
    "    ok_ligs = sorted(list(set(ok_ligs)))\n",
    "    for ok_lig in ok_ligs:\n",
    "        lig_counts[ok_lig] += 1\n",
    "    if len(ok_ligs) > 0:\n",
    "        print(pdbcode, ok_ligs)\n",
    "        ok_pdbs_mp.append(pdbcode)"
   ]
  },
  {
   "cell_type": "code",
   "execution_count": 321,
   "metadata": {},
   "outputs": [],
   "source": [
    "UTILS.write_ids(ok_pdbs_mp, '{0}has_mod_res_lig.txt'.format(PATH_main))"
   ]
  },
  {
   "cell_type": "code",
   "execution_count": 323,
   "metadata": {},
   "outputs": [
    {
     "name": "stdout",
     "output_type": "stream",
     "text": [
      "8863\n"
     ]
    }
   ],
   "source": [
    "print(len(ok_pdbs_mp))"
   ]
  },
  {
   "cell_type": "code",
   "execution_count": 326,
   "metadata": {},
   "outputs": [
    {
     "name": "stdout",
     "output_type": "stream",
     "text": [
      "1014\n",
      "1848\n",
      "1281\n",
      "323\n",
      "1593\n"
     ]
    }
   ],
   "source": [
    "print(len(set(ok_pdbs).intersection(set(ok_pdbs_mp))))\n",
    "print(len(set(ok_pdbs).intersection(set(pdbcodes_bindingmoad))))\n",
    "print(len(set(ok_pdbs_mp).intersection(set(pdbcodes_bindingmoad))))\n",
    "print(len(set(ok_pdbs).intersection(set(pdbcodes_pdbbind))))\n",
    "print(len(set(ok_pdbs_mp).intersection(set(pdbcodes_pdbbind))))"
   ]
  },
  {
   "cell_type": "markdown",
   "metadata": {},
   "source": [
    "### Get the ligand information\n",
    "Similarly to what was done with cofactor-ligand complexes"
   ]
  },
  {
   "cell_type": "code",
   "execution_count": 337,
   "metadata": {},
   "outputs": [],
   "source": [
    "lig_info_mp = {}\n",
    "no_density_mp = Counter()\n",
    "ok_rscc_mp = Counter()"
   ]
  },
  {
   "cell_type": "code",
   "execution_count": 771,
   "metadata": {},
   "outputs": [],
   "source": [
    "for p in ok_pdbs_mp:\n",
    "    ligs_data = UTILS.json_from_url('https://www.ebi.ac.uk/pdbe/api/pdb/entry/ligand_monomers/{0}'.format(p))[p]\n",
    "    for lig_entry in ligs_data:\n",
    "        ligcode = lig_entry['chem_comp_id']\n",
    "        c_id = lig_entry['chain_id']\n",
    "        is_carb = lig_entry['carbohydrate_polymer']\n",
    "        res_id = lig_entry['author_residue_number']\n",
    "        sa_id = lig_entry['struct_asym_id']\n",
    "        if ligcode in solvents:\n",
    "            continue\n",
    "        rscc_cur = UTILS.get_rscc_from_validation_info(p, ligcode, c_id, sa_id, res_id)\n",
    "        if rscc_cur is None:\n",
    "            print('A PROBLEM', p, lig_entry)\n",
    "        else:\n",
    "            if rscc_cur == 'no density':\n",
    "                no_density_mp[p] += 1\n",
    "            elif rscc_cur > 0.8:\n",
    "                ok_rscc_mp[p] += 1\n",
    "        if p not in lig_info_mp.keys():\n",
    "            lig_info_mp[p] = {}\n",
    "        lig_info_mp[p][(ligcode, c_id, sa_id, res_id)] = [ligcode, c_id, sa_id, res_id, is_carb, rscc_cur]"
   ]
  },
  {
   "cell_type": "code",
   "execution_count": 341,
   "metadata": {},
   "outputs": [
    {
     "name": "stdout",
     "output_type": "stream",
     "text": [
      "8863\n",
      "8863\n",
      "7678\n"
     ]
    }
   ],
   "source": [
    "print(len(lig_info_mp.keys()))\n",
    "print(len(ok_pdbs_mp))\n",
    "print(len(ok_rscc_mp))"
   ]
  },
  {
   "cell_type": "code",
   "execution_count": 379,
   "metadata": {},
   "outputs": [],
   "source": [
    "UTILS.write_sorted_dict_simple(ok_rscc_mp, '/home/maria/data/combined_dataset/ok_rscc_mr.txt')\n",
    "UTILS.write_sorted_dict_simple(no_density_mp, '/home/maria/data/combined_dataset/no_density_mr.txt')\n",
    "\n",
    "F = open('/home/maria/data/combined_dataset/lig_info_mr.txt', 'w')\n",
    "for k in sorted(list(lig_info_mp.keys())):\n",
    "    for kl in sorted(list(lig_info_mp[k].keys())):\n",
    "        ligcode, c_id, sa_id, res_id, is_carb, rscc_cur = lig_info_mp[k][kl]\n",
    "        F.write('{0} {1} {2} {3} {4} {5} {6}\\n'.format(k, ligcode, c_id, sa_id, res_id, int(is_carb), rscc_cur))\n",
    "F.close()"
   ]
  },
  {
   "cell_type": "markdown",
   "metadata": {},
   "source": [
    "### Check the RSCCs of modified residues of interest\n",
    "with cofactors, it was done by default, as they are also \"ligands\""
   ]
  },
  {
   "cell_type": "code",
   "execution_count": 368,
   "metadata": {},
   "outputs": [],
   "source": [
    "info_residues = {}\n",
    "no_density_residues = Counter()\n",
    "ok_rscc_residues = Counter()"
   ]
  },
  {
   "cell_type": "code",
   "execution_count": 772,
   "metadata": {},
   "outputs": [],
   "source": [
    "for p in ok_pdbs_mp:\n",
    "    for mod_res in has_mod_res[p]:\n",
    "        ligcode, c_id, res_id, sa_id = mod_res\n",
    "        rscc_cur = UTILS.get_rscc_from_validation_info(p, ligcode, c_id, sa_id, res_id)\n",
    "        if rscc_cur is None:\n",
    "            print('A PROBLEM', p, mod_res)\n",
    "        else:\n",
    "            if rscc_cur == 'no density':\n",
    "                no_density_residues[p] += 1\n",
    "            elif rscc_cur > 0.8:\n",
    "                ok_rscc_residues[p] += 1\n",
    "        if p not in info_residues.keys():\n",
    "            info_residues[p] = {}\n",
    "        info_residues[p][(ligcode, c_id, sa_id, res_id)] = [ligcode, c_id, sa_id, res_id, rscc_cur]"
   ]
  },
  {
   "cell_type": "code",
   "execution_count": 374,
   "metadata": {},
   "outputs": [
    {
     "data": {
      "text/plain": [
       "7457"
      ]
     },
     "execution_count": 374,
     "metadata": {},
     "output_type": "execute_result"
    }
   ],
   "source": [
    "len(set.intersection(set(ok_rscc_residues.keys()), set(ok_rscc_mp.keys())))"
   ]
  },
  {
   "cell_type": "code",
   "execution_count": 378,
   "metadata": {},
   "outputs": [],
   "source": [
    "UTILS.write_sorted_dict_simple(ok_rscc_residues, '/home/maria/data/combined_dataset/ok_rscc_residues.txt')\n",
    "UTILS.write_sorted_dict_simple(no_density_residues, '/home/maria/data/combined_dataset/no_density_residues.txt')\n",
    "\n",
    "F = open('/home/maria/data/combined_dataset/info_residues.txt', 'w')\n",
    "for k in sorted(list(info_residues.keys())):\n",
    "    for kl in sorted(list(info_residues[k].keys())):\n",
    "        ligcode, c_id, sa_id, res_id, rscc_cur = info_residues[k][kl]\n",
    "        F.write('{0} {1} {2} {3} {4} {5}\\n'.format(k, ligcode, c_id, sa_id, res_id, rscc_cur))\n",
    "F.close()"
   ]
  },
  {
   "cell_type": "markdown",
   "metadata": {},
   "source": [
    "## Analyse intersections between different parts of the dataset. Perform additional parsing"
   ]
  },
  {
   "cell_type": "markdown",
   "metadata": {},
   "source": [
    "- Before this step, I downloaded all the complex structures using functions from `new_dataset_routines.py` in the form of biological assemblies (this is really arguable, but I followed PDBBind that uses assemblies).\n",
    "- A good point about assemblies from PDBe is that they are in cif and have a convenient notation of \"segments\" with different pymol's segid. And, for example, each carbo polymer will be in a separate segi, even if it consists of scattered ligands.\n",
    "- I then ran the pymol-based scripts from `pymol_check_complex_validity.py` to check the distances between cofactors/modified residues and ligands, using the assembly data. We need only the cases when they are spatially proximate. \n",
    "- In that script, I also removed peptides to get rid of polymer drugs that consist of non-standard residues, but are not usual \"proteins\".  \n",
    "- And I also checked occupancies with the script from `pymol_extract_pl_final.py`. In fact, I checked occupancies in the very end and went back to this stage (so the code is not 100% straightworward)."
   ]
  },
  {
   "cell_type": "code",
   "execution_count": 302,
   "metadata": {},
   "outputs": [],
   "source": [
    "rare_elements = ['Li', 'Be', 'Na', 'Mg', 'K', 'Ca', 'Ti', 'V', 'Cr', 'Mn', 'Fe',\n",
    "                 'Ni', 'Cu', 'Zn', 'Ga', 'Rb', 'Sr', 'Y', 'Zr', 'Nb', 'Mo', 'Tc', 'Ru', 'Rh', \n",
    "                 'Pd', 'Ag', 'Cd', 'In', 'Ba', 'La', 'Ce', 'Pr', 'Nd', 'Pm', 'Sm', 'Eu', 'Gd', \n",
    "                 'Tb', 'Dy', 'Ho', 'Er', 'Tm', 'Yb', 'Lu', 'Hf', 'Ta', 'W', 'Re', 'Ir', 'Pt',\n",
    "                 'Au', 'Hg', 'Tl', 'Pb', 'Bi', 'Fr', 'Ra', 'Ac', 'Th', 'Pa', 'U', 'Np', 'Pu',\n",
    "                 'Am', 'Cm', 'Bk', 'Cf', 'Es', 'Fm', 'Md', 'Lr', 'Rf', 'Db', 'Sg', 'Bh', 'Hs',\n",
    "                 'Mt', 'Ds', 'Rg', 'Nh', 'Fl', 'Mc', 'Lv', 'Ge', 'As', 'Sb', 'Te', 'At', 'Al']\n",
    "not_rare_metalloids = ['B', 'Si']\n",
    "allowed_me = ['Fe', 'Mg', 'Ca', 'Zn']\n",
    "rare_elements_condi = ['Sc', 'Co', 'Cs', 'Sn', 'Os', 'Po', 'No', 'Cn']\n",
    "rare_elements_up = [ele.upper() for ele in rare_elements + rare_elements_condi + not_very_rare_metalloids]"
   ]
  },
  {
   "cell_type": "code",
   "execution_count": 356,
   "metadata": {},
   "outputs": [],
   "source": [
    "ligs_to_drop_additional = ['4MO', '6MO', '6SE', '9S8', 'AF3', 'ALF', 'ARS', 'ART', 'AST', 'AU', 'BF4',\n",
    "                           'BO3', 'CAC', 'CAD', 'CE', 'CU1', 'CU3', 'CUM', 'CUN', 'EFK', 'FE2', 'FEO',\n",
    "                           'FS2', 'FSO', 'KR', 'LI', 'MN3', 'MO', 'MOM', 'MTD', 'NFC', 'NFO', 'NFR',\n",
    "                           'NFU', 'NFV', 'NI', 'OMO', 'PB', 'SFS', 'SR', 'W', 'WO4', 'YB', 'IOD']"
   ]
  },
  {
   "cell_type": "code",
   "execution_count": 773,
   "metadata": {},
   "outputs": [],
   "source": [
    "# some precomputed occupancies\n",
    "mr_cf_occ = {}\n",
    "p = ''\n",
    "with open('{0}pb19_bm20_mr_cf_v1_occupancies.txt'.format(PATH_main), 'r') as F:\n",
    "    for ln_ in F:\n",
    "        ln = ln_.replace('\\n', '').replace(', ', ',').replace('(', '').replace(')', '')\n",
    "        if len(ln) == 4:\n",
    "            p = ln[:4]\n",
    "            mr_cf_occ[p] = {}\n",
    "        else:\n",
    "            ln = ln.split()\n",
    "            c_id, s_id = ln[1], ln[2]\n",
    "            occ = float(ln[4])\n",
    "            if ',' not in ln_:\n",
    "                resn = ln[0]\n",
    "                resi = int(ln[3])\n",
    "                mr_cf_occ[p][(resn, c_id, s_id, resi)] = occ\n",
    "            else:\n",
    "                resns = ln[0].split(',')\n",
    "                resis = tuple(map(int, ln[3].split(',')))\n",
    "                for i in range(len(resns)):\n",
    "                    mr_cf_occ[p][(resns[i], c_id, s_id, resis[i])] = occ\n",
    "            \n",
    "for p in mr_cf_occ:\n",
    "    print(p, mr_cf_occ[p])"
   ]
  },
  {
   "cell_type": "markdown",
   "metadata": {},
   "source": [
    "### 1) Prepare files with modified residues for inclusion into the final dataset.\n",
    "The goal here is to separate all chains not to have duplicates, to understand whether we have multiple ligands or not (have to be trated separately in that case)."
   ]
  },
  {
   "cell_type": "code",
   "execution_count": 198,
   "metadata": {},
   "outputs": [],
   "source": [
    "# read the modified residue complexes\n",
    "mod_res_info ={}\n",
    "with open('{0}pdb_lig_mr_pairs_noncov_dmin5.2_30resmin.csv'.format(PATH_main)) as F:\n",
    "    next(F)\n",
    "    for ln_ in F:\n",
    "        ln = ln_.replace('\\n', '').split(',')\n",
    "        pdbcode, ligcode, c_id_lig, sa_id_lig, resi_lig, resn, c_id_mr, sa_id_mr, resi_mr, dist = ln\n",
    "        resi_lig, resi_mr, dist = int(resi_lig), int(resi_mr), float(dist)\n",
    "        if pdbcode not in mod_res_info:\n",
    "            mod_res_info[pdbcode] = {}\n",
    "        if sa_id_lig not in mod_res_info[pdbcode]:\n",
    "            mod_res_info[pdbcode][sa_id_lig] = []\n",
    "        mod_res_info[pdbcode][sa_id_lig].append((ligcode, c_id_lig, sa_id_lig, resi_lig, resn, c_id_mr, sa_id_mr, resi_mr, dist))"
   ]
  },
  {
   "cell_type": "code",
   "execution_count": 568,
   "metadata": {
    "scrolled": true
   },
   "outputs": [
    {
     "name": "stdout",
     "output_type": "stream",
     "text": [
      "2207\n",
      "1965\n",
      "2326\n"
     ]
    }
   ],
   "source": [
    "# ligcode1, c_id, sa_id, resi, ligcode2, c_id2, sa_id2, resi2, dist\n",
    "# ligcode, c_id_lig, sa_id_lig, resi_lig, resn, c_id_mr, sa_id_mr, resi_mr, dist\n",
    "\n",
    "# 1) Filtering to remove entries from different chains with different segment ids, but same\n",
    "#    residue names and residue ids\n",
    "mod_res_pre_filtered = {}\n",
    "for pdbcode in mod_res_info:\n",
    "    mod_res_pre_filtered[pdbcode] = {}\n",
    "    for segi in mod_res_info[pdbcode]:\n",
    "        for entry in mod_res_info[pdbcode][segi]:\n",
    "            if entry[0] in cofactors_dict['Heme'] + rare_elements_up + ligs_to_drop_additional + ['UNL']:  # 'HEM':\n",
    "                continue\n",
    "            if entry[4] in ['CAS', 'CZ2', 'CZZ', 'CAF']:\n",
    "                continue\n",
    "            conti = False\n",
    "            for segi2 in mod_res_pre_filtered[pdbcode]:\n",
    "                for entry_existing in mod_res_pre_filtered[pdbcode][segi2]:\n",
    "                    if entry[0] == entry_existing[0] \\\n",
    "                       and entry[4] == entry_existing[4] \\\n",
    "                       and entry[3] == entry_existing[3] \\\n",
    "                       and entry[7] == entry_existing[7]:\n",
    "#                        and entry[8] == entry_existing[8] \\\n",
    "#                         print(entry, entry_existing)\n",
    "                        conti = True\n",
    "                        break\n",
    "                if conti:\n",
    "#                     print ('continued at', entry_existing, entry)\n",
    "                    break\n",
    "            if conti:\n",
    "                continue\n",
    "            if segi not in mod_res_pre_filtered[pdbcode]:\n",
    "                mod_res_pre_filtered[pdbcode][segi] = []\n",
    "            mod_res_pre_filtered[pdbcode][segi].append(entry)\n",
    "    if mod_res_pre_filtered[pdbcode] == {}:\n",
    "        mod_res_pre_filtered.pop(pdbcode) \n",
    "                \n",
    "# 2) re-grouping by chain ID\n",
    "mod_res_filtered_chain = {}\n",
    "for p, e_pdbcode in mod_res_pre_filtered.items():\n",
    "    mod_res_filtered_chain[p] = {}\n",
    "    for segi, e_segi in e_pdbcode.items():\n",
    "        for entry in e_segi:\n",
    "            c_id_lig = entry[1]\n",
    "            if c_id_lig not in mod_res_filtered_chain[p]:\n",
    "                mod_res_filtered_chain[p][c_id_lig] = []\n",
    "            mod_res_filtered_chain[p][c_id_lig].append(entry)\n",
    "            \n",
    "# 3) removing chain duplicates\n",
    "def is_j_in_i(dat_i_, dat_j_):\n",
    "    dat_i = sorted(list(dat_i_))\n",
    "    dat_j = sorted(list(dat_j_))\n",
    "    is_subset_ = [0 for d in dat_j]\n",
    "    checked = []\n",
    "    for j, d_j in enumerate(dat_j):\n",
    "        for d_i in dat_i:\n",
    "            if d_i in checked:\n",
    "                continue\n",
    "            if d_i[0] == d_j[0] and d_i[1] == d_j[1] and \\\n",
    "               np.isclose(d_i[2], d_j[2], atol=3e-01):\n",
    "                is_subset_[j] = 1\n",
    "                checked.append(d_i)\n",
    "    return np.all(is_subset_)\n",
    "    \n",
    "\n",
    "for p, e_pdbcode in mod_res_filtered_chain.items():\n",
    "    to_pop = []\n",
    "    for c_i, e_i in e_pdbcode.items():\n",
    "        if c_i in to_pop:\n",
    "            continue\n",
    "        dat_i = set([(e[0], e[4], np.round(e[8], 1)) for e in e_i])\n",
    "        for c_j, e_j in e_pdbcode.items():\n",
    "            if c_j in to_pop or c_i == c_j:\n",
    "                continue\n",
    "            dat_j = set([(e[0], e[4], np.round(e[8], 1)) for e in e_j])\n",
    "            \n",
    "            if dat_j.issubset(dat_i):\n",
    "#                 if len(dat_i) > 1 or len(dat_j) > 1:\n",
    "#                     print(p, dat_j, 'is_subset', dat_i)\n",
    "                to_pop.append(c_j)\n",
    "            elif is_j_in_i(dat_i, dat_j): \n",
    "#                 if len(dat_i) > 1 or len(dat_j) > 1:\n",
    "#                     print(p, dat_i, 'found_subset', dat_j)\n",
    "                to_pop.append(c_j)\n",
    "    for tp in to_pop:\n",
    "        mod_res_filtered_chain[p].pop(tp)\n",
    "            \n",
    "print(len(mod_res_filtered_chain))\n",
    "    \n",
    "mod_residues_filtered = Counter()\n",
    "for pdbcode in mod_res_filtered_chain:\n",
    "    for c_id in mod_res_filtered_chain[pdbcode]:\n",
    "        for entry in mod_res_filtered_chain[pdbcode][c_id]:\n",
    "            mod_residues_filtered[entry[4]] += 1\n",
    "            \n",
    "\n",
    "# 4) group by ligand\n",
    "mod_res_chain_lig = {}\n",
    "for p, e_pdbcode in mod_res_filtered_chain.items():\n",
    "    mod_res_chain_lig[p] = {}\n",
    "    for c_i, e_i in e_pdbcode.items():\n",
    "        for entry in e_i:\n",
    "            lig1 = tuple(entry[0:4])\n",
    "            lig2 = tuple(entry[4:8])\n",
    "            lig2_ = tuple(entry[4:9])\n",
    "            if lig1 not in mod_res_chain_lig[p]:\n",
    "                mod_res_chain_lig[p][lig1] = []\n",
    "            mod_res_chain_lig[p][lig1].append(lig2)\n",
    "\n",
    "# 5) kick those with bad occupancy and once again clean everything\n",
    "to_pop = []\n",
    "for p, e_p in mod_res_chain_lig.items():\n",
    "    if p not in mr_cf_occ:\n",
    "        continue\n",
    "    to_pop_l = []\n",
    "    for l, e_l in e_p.items():\n",
    "        if l in mr_cf_occ[p]:\n",
    "            if mr_cf_occ[p][l] <= 0.8:\n",
    "                to_pop_l.append(l)\n",
    "        to_pop_loc = []\n",
    "        for l1 in e_l:\n",
    "            if l1 in mr_cf_occ[p]:\n",
    "                if mr_cf_occ[p][l1] <= 0.8:\n",
    "                    to_pop_loc.append(l1)\n",
    "        for l1 in set(to_pop_loc):\n",
    "            e_l.remove(l1)\n",
    "        if len(e_l) == 0:\n",
    "            to_pop_l.append(l)\n",
    "    for l in set(to_pop_l):\n",
    "        e_p.pop(l)\n",
    "    if len(e_p) == 0:\n",
    "        to_pop.append(p)\n",
    "for p in set(to_pop):\n",
    "    mod_res_chain_lig.pop(p)\n",
    "            \n",
    "            \n",
    "# 6) check things with the same segi (carb sequences, in particular)\n",
    "for p, e_p in mod_res_chain_lig.items():\n",
    "    by_segi = {}\n",
    "    for l, e_l in e_p.items():\n",
    "        if l[2] not in by_segi:\n",
    "            by_segi[l[2]] = set([])\n",
    "        by_segi[l[2]].add(l)\n",
    "    if len(by_segi) == 0:  # check for anything not popped\n",
    "        print(p, e_p)\n",
    "#     elif max([len(v) for v in by_segi.values()]) > 1:\n",
    "#         print(p)\n",
    "#         print(e_p)\n",
    "#         print(by_segi)\n",
    "    for v in by_segi.values():\n",
    "        if len(v) <= 1:\n",
    "            continue\n",
    "        new_ligname = ','.join([s[0] for s in v])\n",
    "        new_lig_items = list(set([e_p[s][0] for s in v]))\n",
    "        new_lig_resi = tuple(s[3] for s in v)\n",
    "        for l in v:\n",
    "            e_p.pop(l)\n",
    "        new_lig = (new_ligname, list(v)[0][1], list(v)[0][2], new_lig_resi)\n",
    "        e_p[new_lig] = new_lig_items\n",
    "#         print(mod_res_chain_lig[p])\n",
    "\n",
    "        \n",
    "n_ligs = 0\n",
    "for p, e_pdbcode in mod_res_chain_lig.items():\n",
    "    for lig_i, ligs_j in e_pdbcode.items():\n",
    "        n_ligs += 1\n",
    "#         if len(ligs_j) > 1:\n",
    "#             for lig_j in ligs_j:\n",
    "#                 if lig_i[1] != lig_j[1]:\n",
    "#                     print(p, lig_i, ligs_j)\n",
    "\n",
    "print(len(mod_res_chain_lig))\n",
    "print(n_ligs)"
   ]
  },
  {
   "cell_type": "code",
   "execution_count": 774,
   "metadata": {
    "scrolled": true
   },
   "outputs": [],
   "source": [
    "for p in mod_res_filtered_chain:\n",
    "    print(p, mod_res_filtered_chain[p])"
   ]
  },
  {
   "cell_type": "code",
   "execution_count": 289,
   "metadata": {
    "scrolled": true
   },
   "outputs": [
    {
     "name": "stdout",
     "output_type": "stream",
     "text": [
      "Counter({'MSE': 1663, 'KCX': 269, 'LLP': 147, 'CSO': 129, 'CSD': 99, 'HIC': 84, 'FME': 73, 'SEP': 70, 'SEC': 63, 'MEN': 54, 'CSS': 50, 'CSX': 46, 'MLY': 45, 'CME': 44, 'OCS': 44, 'MHS': 39, 'TPO': 38, 'TOX': 33, 'AGM': 31, 'GL3': 22, 'MGN': 22, 'NEP': 21, 'TYQ': 16, 'PCA': 15, 'TRQ': 14, 'SME': 14, 'SCY': 12, 'NLE': 12, 'FTR': 11, 'MHO': 9, 'MDO': 9, 'DAL': 9, 'TPQ': 8, 'QPA': 8, '4FW': 8, 'F7W': 8, 'PHD': 7, 'XCN': 7, '2LT': 7, 'SNN': 6, 'CGU': 6, 'YCM': 6, 'F2Y': 6, 'AYA': 6, 'TYY': 5, 'KST': 5, 'PSW': 5, 'LYR': 5, '3CT': 5, 'MLZ': 5, 'CMT': 4, 'LYZ': 4, 'OAS': 4, 'SMC': 4, 'ALY': 4, 'CIR': 4, 'DDZ': 4, 'DGL': 4, 'HOX': 4, 'SE7': 4, 'UOX': 4, 'DHA': 3, 'PTR': 3, 'SGB': 3, 'IYR': 3, '4AK': 3, 'PHI': 3, 'ABA': 3, 'EJA': 3, 'BXT': 3, 'MVA': 3, 'CGA': 2, 'CCS': 2, 'CXM': 2, 'DBU': 2, 'TQQ': 2, 'LED': 2, 'HYP': 2, 'KPI': 2, 'SXE': 2, '1X6': 2, 'HS8': 2, 'CSU': 2, 'DLE': 2, 'DPR': 2, 'MED': 2, 'DM0': 2, 'YOF': 2, 'SNC': 2, 'SAR': 2, 'JLP': 2, 'F6N': 2, 'KKD': 2, '0A9': 1, 'CSA': 1, 'ARO': 1, 'CSZ': 1, '0A8': 1, 'OXX': 1, 'DBB': 1, 'CRK': 1, 'SCS': 1, 'TTQ': 1, 'SUN': 1, 'MCS': 1, '1TQ': 1, 'MEA': 1, 'NIY': 1, 'SCH': 1, 'TH5': 1, 'LA2': 1, 'MSO': 1, 'CSJ': 1, 'BIL': 1, 'B3K': 1, 'B3Q': 1, 'B3E': 1, 'LVN': 1, 'QCS': 1, '41Q': 1, '4IN': 1, '4AW': 1, '0QL': 1, 'DSG': 1, 'DSN': 1, 'DAR': 1, 'DGN': 1, 'DIL': 1, 'DVA': 1, 'DTH': 1, '4OU': 1, 'FY2': 1, '51T': 1, 'FY3': 1, 'CRO': 1, 'MIS': 1, '5OW': 1, 'GYS': 1, 'DAS': 1, 'K5L': 1, '00C': 1, 'M3L': 1, 'ZBZ': 1, 'OMX': 1, 'TXY': 1, 'SVX': 1, 'CRF': 1, 'EME': 1, 'PFF': 1, 'P1L': 1, 'QVA': 1})\n"
     ]
    }
   ],
   "source": [
    "print(mod_residues_filtered)"
   ]
  },
  {
   "cell_type": "markdown",
   "metadata": {},
   "source": [
    "### 2) Prepare protein-ligand pairs with a cofactor.\n",
    "Again, the goal here is to separate all chains not to have duplicates, to understand whether we have multiple ligands or not (have to be trated separately in that case).\n",
    "I treated each ligand as a cofactor and vice versa to get more statistics. I.e. from 1 protein-cofactor-ligand complex I got two training instances."
   ]
  },
  {
   "cell_type": "code",
   "execution_count": 358,
   "metadata": {},
   "outputs": [],
   "source": [
    "# read cofactor complexes\n",
    "cf_info = {}\n",
    "with open('{0}pdb_lig_co_pairs.csv'.format(PATH_main)) as F:\n",
    "    next(F)\n",
    "    for ln_ in F:\n",
    "        ln = ln_.replace('\\n', '').split(',')\n",
    "        pdbcode, ligcode1, c_id, sa_id, resi, ligcode2, c_id2, sa_id2, resi2, dist = ln\n",
    "        resi, resi2, dist = int(resi), int(resi2), float(dist)\n",
    "        if dist > 5.2:\n",
    "            continue\n",
    "        if dist < 1.7 and ligcode1 not in cofactors_dict['Heme'] and ligcode2 not in cofactors_dict['Heme']:\n",
    "            continue\n",
    "        if ligcode1 in ligs_to_drop_additional or ligcode2 in ligs_to_drop_additional:\n",
    "            continue\n",
    "        if pdbcode not in cf_info:\n",
    "            cf_info[pdbcode] = {}\n",
    "        if sa_id not in cf_info[pdbcode]:\n",
    "            cf_info[pdbcode][sa_id] = []\n",
    "        cf_info[pdbcode][sa_id].append((ligcode1, c_id, sa_id, resi, ligcode2, c_id2, sa_id2, resi2, dist))\n",
    "#         if dist < 2.5 and ligcode1 not in cofactors_dict['Heme'] and ligcode2 not in cofactors_dict['Heme']:\n",
    "#             print(pdbcode, ligcode1, c_id, sa_id, resi, ligcode2, c_id2, sa_id2, resi2, dist)"
   ]
  },
  {
   "cell_type": "code",
   "execution_count": 567,
   "metadata": {},
   "outputs": [
    {
     "name": "stdout",
     "output_type": "stream",
     "text": [
      "6609\n",
      "6582\n",
      "6582\n",
      "11372\n"
     ]
    }
   ],
   "source": [
    "# Group cofactor examples by chain\n",
    "# ligcode1, c_id, sa_id, resi, ligcode2, c_id2, sa_id2, resi2, dist\n",
    "#\n",
    "# 1) Filtering to remove entries from different chains with different segment ids, but same\n",
    "#    residue names and residue ids\n",
    "cf_pre_filtered = {}\n",
    "print(len(cf_info))\n",
    "\n",
    "for pdbcode in cf_info:\n",
    "    cf_pre_filtered[pdbcode] = {}\n",
    "    for segi in cf_info[pdbcode]:\n",
    "        for entry in cf_info[pdbcode][segi]:\n",
    "            if entry[0] == 'UNL' or entry[4] == 'UNL':\n",
    "                continue\n",
    "            conti = False\n",
    "            for segi2 in cf_pre_filtered[pdbcode]:\n",
    "                for entry_existing in cf_pre_filtered[pdbcode][segi2]:\n",
    "                    if entry[0] == entry_existing[0] \\\n",
    "                       and entry[4] == entry_existing[4] \\\n",
    "                       and entry[3] == entry_existing[3] \\\n",
    "                       and entry[7] == entry_existing[7]:\n",
    "#                        and entry[8] == entry_existing[8] \\\n",
    "#                         print(entry, entry_existing)\n",
    "                        conti = True\n",
    "                        break\n",
    "                if conti:\n",
    "#                     print ('continued at', entry_existing, entry)\n",
    "                    break\n",
    "            if conti:\n",
    "                continue\n",
    "            if segi not in cf_pre_filtered[pdbcode]:\n",
    "                cf_pre_filtered[pdbcode][segi] = []\n",
    "            cf_pre_filtered[pdbcode][segi].append(entry)\n",
    "    if cf_pre_filtered[pdbcode] == {}:\n",
    "        cf_pre_filtered.pop(pdbcode) \n",
    "print(len(cf_pre_filtered))\n",
    "\n",
    "# 2) re-grouping by chain ID (not that much needed though, because chain id is important for both ligands)\n",
    "cf_filtered_chain = {}\n",
    "for p, e_pdbcode in cf_pre_filtered.items():\n",
    "    cf_filtered_chain[p] = {}\n",
    "    for segi, e_segi in e_pdbcode.items():\n",
    "        for entry in e_segi:\n",
    "            c_id_lig = entry[1]\n",
    "            if c_id_lig not in cf_filtered_chain[p]:\n",
    "                cf_filtered_chain[p][c_id_lig] = []\n",
    "            cf_filtered_chain[p][c_id_lig].append(entry)      \n",
    "\n",
    "# 3) removing chain duplicates\n",
    "\n",
    "def is_j_in_i_set(dat_i_, dat_j_):\n",
    "    dat_i = sorted(list(dat_i_))\n",
    "    dat_j = sorted(list(dat_j_))\n",
    "    is_subset_ = [0 for d in dat_j]\n",
    "    checked = []\n",
    "    for j, d_j in enumerate(dat_j):\n",
    "        for d_i in dat_i:\n",
    "            if d_i in checked:\n",
    "                continue\n",
    "            if d_i[0] == d_j[0] and \\\n",
    "               np.isclose(d_i[1], d_j[1], atol=3e-01):\n",
    "                is_subset_[j] = 1\n",
    "                checked.append(d_i)\n",
    "    return np.all(is_subset_)\n",
    "\n",
    "for p, e_pdbcode in cf_filtered_chain.items():\n",
    "    to_pop = []\n",
    "    for c_i, e_i in e_pdbcode.items():\n",
    "        if c_i in to_pop:\n",
    "            continue\n",
    "        dat_i = set([(frozenset([e[0], e[4]]), np.round(e[8], 1)) for e in e_i])\n",
    "        for c_j, e_j in e_pdbcode.items():\n",
    "            if c_j in to_pop or c_i == c_j:\n",
    "                continue\n",
    "            dat_j = set([(frozenset([e[0], e[4]]), np.round(e[8], 1)) for e in e_j])\n",
    "#             print(dat_i, dat_j)\n",
    "            if dat_j.issubset(dat_i):\n",
    "#                 print(dat_j, 'is_subset', dat_i)\n",
    "                to_pop.append(c_j)\n",
    "            elif is_j_in_i_set(dat_i, dat_j):\n",
    "                to_pop.append(c_j)\n",
    "    for tp in to_pop:\n",
    "        cf_filtered_chain[p].pop(tp)\n",
    "\n",
    "# 4) group by ligand\n",
    "cf_chain_lig = {}\n",
    "to_pop = []\n",
    "for p, e_pdbcode in cf_filtered_chain.items():\n",
    "#     if p!='106m':\n",
    "#         continue\n",
    "    cf_chain_lig[p] = {}\n",
    "    for c_i, e_i in e_pdbcode.items():\n",
    "        for entry in e_i:\n",
    "            lig1 = tuple(entry[0:4])\n",
    "            lig2 = tuple(entry[4:8])\n",
    "            lig1_ = tuple(list(entry[0:4]) + [entry[-1]])\n",
    "            lig2_ = tuple(entry[4:9])\n",
    "            if lig1[0] not in cofactors_dict['Heme']:  # and lig1[0] not in ['UNL']:\n",
    "                if lig1 not in cf_chain_lig[p]:\n",
    "                    cf_chain_lig[p][lig1] = []\n",
    "                cf_chain_lig[p][lig1].append(lig2)\n",
    "            if lig2[0] not in cofactors_dict['Heme']:  # and lig2[0] not in ['UNL']:\n",
    "                if lig2 not in cf_chain_lig[p]:\n",
    "                    cf_chain_lig[p][lig2] = []\n",
    "                cf_chain_lig[p][lig2].append(lig1)\n",
    "    if len(cf_chain_lig[p]) == 0:\n",
    "        to_pop.append(p)\n",
    "        \n",
    "for tp in to_pop:\n",
    "    cf_chain_lig.pop(tp)\n",
    "\n",
    "# 5) kick those with bad occupancy and once again clean everything\n",
    "to_pop = []\n",
    "for p, e_p in cf_chain_lig.items():\n",
    "    if p not in mr_cf_occ:\n",
    "        continue\n",
    "    to_pop_l = []\n",
    "    for l, e_l in e_p.items():\n",
    "        if l in mr_cf_occ[p]:\n",
    "            if mr_cf_occ[p][l] <= 0.8:\n",
    "                to_pop_l.append(l)\n",
    "        to_pop_loc = []\n",
    "        for l1 in e_l:\n",
    "            if l1 in mr_cf_occ[p]:\n",
    "                if mr_cf_occ[p][l1] <= 0.8:\n",
    "                    to_pop_loc.append(l1)\n",
    "        for l1 in set(to_pop_loc):\n",
    "            e_l.remove(l1)\n",
    "        if len(e_l) == 0:\n",
    "            to_pop_l.append(l)\n",
    "    for l in set(to_pop_l):\n",
    "        e_p.pop(l)\n",
    "    if len(e_p) == 0:\n",
    "        to_pop.append(p)\n",
    "for p in set(to_pop):\n",
    "    cf_chain_lig.pop(p)\n",
    "                \n",
    "# 6) check things with the same segi (carb sequences, in particular)\n",
    "for p, e_p in cf_chain_lig.items():\n",
    "    by_segi = {}\n",
    "    for l, e_l in e_p.items():\n",
    "        if l[2] not in by_segi:\n",
    "            by_segi[l[2]] = set([])\n",
    "        by_segi[l[2]].add(l)\n",
    "        for l1 in e_l:\n",
    "            if l1[2] not in by_segi:\n",
    "                by_segi[l1[2]] = set([])\n",
    "            by_segi[l1[2]].add(l1)\n",
    "    if len(by_segi) == 0:  # check for anything not popped\n",
    "        print(p, e_p)\n",
    "#     elif max([len(v) for v in by_segi.values()]) > 1:\n",
    "#         print(p)\n",
    "#         print(e_p)\n",
    "#         print(by_segi)\n",
    "    for v in by_segi.values():\n",
    "        if len(v) <= 1:\n",
    "            continue\n",
    "        new_ligname = ','.join([s[0] for s in v])\n",
    "        new_lig_items = list(set([e_p[s][0] for s in v]))\n",
    "        new_lig_resi = tuple(s[3] for s in v)\n",
    "        new_lig = (new_ligname, list(v)[0][1], list(v)[0][2], new_lig_resi)\n",
    "        for l in v:\n",
    "            e_p.pop(l)\n",
    "        e_p[new_lig] = new_lig_items\n",
    "        for l1, e_l1 in e_p.items():\n",
    "            removed = False\n",
    "            for l in v:\n",
    "                if l in e_l1:\n",
    "                    e_l1.remove(l)\n",
    "                    removed = True\n",
    "            if removed:\n",
    "                e_l1.append(new_lig)\n",
    "#         print(cf_chain_lig[p])\n",
    "\n",
    "                \n",
    "n_ligs = 0\n",
    "for p, e_pdbcode in cf_chain_lig.items():\n",
    "    for lig_i, ligs_j in e_pdbcode.items():\n",
    "        n_ligs += 1\n",
    "#         print(p, lig_i, ligs_j)\n",
    "#         if len(ligs_j) > 1:\n",
    "#             for lig_j in ligs_j:\n",
    "#                 if lig_i[1] != lig_j[1]:\n",
    "#                     print(p, lig_i, ligs_j)\n",
    "        \n",
    "print(len(cf_filtered_chain))\n",
    "print(n_ligs)"
   ]
  },
  {
   "cell_type": "code",
   "execution_count": 466,
   "metadata": {},
   "outputs": [
    {
     "name": "stdout",
     "output_type": "stream",
     "text": [
      "284\n",
      "1379\n"
     ]
    }
   ],
   "source": [
    "print(len([v for v in cf_filtered_chain.values() if len(v) > 1]))\n",
    "multi_i = 0\n",
    "for p in cf_filtered_chain:\n",
    "    for c_i in cf_filtered_chain[p]:\n",
    "        if len(cf_filtered_chain[p][c_i]) > 1:\n",
    "            multi_i += 1\n",
    "print(multi_i)"
   ]
  },
  {
   "cell_type": "markdown",
   "metadata": {},
   "source": [
    "### 3) Check whether the resulting small molecules have metals and metalloids \n",
    "Additional filters. I used this information to create ligs_to_drop_additional that is defined above."
   ]
  },
  {
   "cell_type": "code",
   "execution_count": 305,
   "metadata": {},
   "outputs": [],
   "source": [
    "def find_element(mode, atoms, elements, ligcode, smiles_str):\n",
    "    rare_found = re.findall('|'.join(elements), atoms)\n",
    "    if len(rare_found):\n",
    "        print(mode, ligcode, smiles_str)"
   ]
  },
  {
   "cell_type": "code",
   "execution_count": 281,
   "metadata": {},
   "outputs": [],
   "source": [
    "lig_smiles = {}"
   ]
  },
  {
   "cell_type": "code",
   "execution_count": 340,
   "metadata": {},
   "outputs": [
    {
     "name": "stdout",
     "output_type": "stream",
     "text": [
      "metalloids 34B Cc1nc(N)nc(N)c1C[C]2345[BH]678[BH]9%10%11[BH]%12%13%14[BH]69%15[BH]%12%16%17[BH]%13%18%19[BH]%10%14%20[BH]27%11[BH]3%18%20[CH]4%16%19[BH]58%15%17\n",
      "metalloids 39B Cc1nc(N)nc(N)c1C[C+]234[BH-]5[BH]267[BH]389[CH]4%10[BH2]%11[BH]%12%13%14[BH2-][BH+]56%12[BH]78%13[BH]9%10%11%14\n",
      "metalloids 39E Cc1nc(N)nc(N)c1C[C+]234[BH-]5[BH]267[BH]389[CH]4%10[BH2]%11[BH]%12%13%14[BH2-][BH+]56%12[BH]78%13[BH]9%10%11%14\n",
      "metalloids 3VU Cc1c(C)c2[C@@H](CC(O)=O)OB(O)c2cc1Oc3snc(N)n3\n",
      "metalloids 43H OB(O)C1=CN(C=C(O)C1=O)c2cccc(c2)c3ccccc3\n",
      "metalloids 92N OB1OCc2cc(Oc3ccc(C=O)cc3)ccc12\n",
      "metalloids BUB CCCCB(O)O\n",
      "metalloids C6S OB1Oc2c(C[C@@H]1NC(=O)C3CCCCC3)cccc2C(O)=O\n",
      "metalloids EKV CCN(CC#CC#CC(C)(C)OC)Cc1cccc(OC[Si](C)(C)c2ccccc2C)c1\n",
      "metalloids IAP OB(O)c1cccc(NC(=O)CI)c1\n",
      "metalloids J4W CC(C)(C)OC(=O)Nc1ccc2COB(O)c2c1\n",
      "metalloids JW1 CC(C)(C)OC(=O)Nc1cccc(c1)B(O)O\n",
      "metalloids JW3 OB(O)c1cccc(c1)C(=O)NCc2occc2\n",
      "metalloids JW8 OB(O)c1ccc(cc1)[S](=O)(=O)N2CCC2\n",
      "metalloids KJK NCCN[C@@H]1CC[C@H](CC1)CC(=O)N[C@H]2Cc3cccc(C(O)=O)c3OB2O\n",
      "metalloids PBC OB(O)c1ccccc1\n",
      "metalloids RM9 OB1Oc2c(ccc(F)c2C(O)=O)[C@H]3C[C@@H]13\n",
      "metalloids TDB CCC[S](=O)(=O)N1N=Cc2sc(C)cc2B1O\n"
     ]
    }
   ],
   "source": [
    "lig_codes = set()\n",
    "for e in mod_residues_filtered:\n",
    "    lig_codes.add(e)\n",
    "\n",
    "for pdbcode in mod_res_filtered_chain:\n",
    "    for c_id in mod_res_filtered_chain[pdbcode]:\n",
    "        for entry in mod_res_filtered_chain[pdbcode][c_id]:\n",
    "            lig_codes.add(entry[0])\n",
    "\n",
    "for pdbcode in cf_info:\n",
    "    for segi in cf_info[pdbcode]:\n",
    "        for entry in cf_info[pdbcode][segi]:\n",
    "            lig_codes.add(entry[0])\n",
    "            lig_codes.add(entry[4])\n",
    "            \n",
    "for i_ligcode, ligcode in enumerate(sorted(list(lig_codes))):\n",
    "#     if i_ligcode % 100 == 0:\n",
    "#         print(i_ligcode, len(lig_codes))\n",
    "    if ligcode not in lig_smiles:\n",
    "        if ligcode == 'UNL':\n",
    "            continue\n",
    "        lig_data = UTILS.json_from_url('https://www.ebi.ac.uk/pdbe/api/pdb/compound/summary/{0}'.format(ligcode))\n",
    "        smiles_str = lig_data[ligcode][0]['smiles'][0]['name']\n",
    "        lig_smiles[ligcode] = smiles_str\n",
    "    else:\n",
    "        smiles_str = lig_smiles[ligcode]\n",
    "    my_atoms = re.sub(r'H|@|\\(|\\)|#|\\[|\\]|=|\\d', '', smiles_str.replace('Br', '')) # B != Br\n",
    "#     find_element('rare', my_atoms, rare_elements, ligcode, smiles_str)\n",
    "#     find_element('allowed_me', my_atoms, allowed_me, ligcode, smiles_str)\n",
    "    find_element('metalloids', my_atoms, not_rare_metalloids, ligcode, smiles_str)\n",
    "#     find_element('Se', my_atoms, [\"Se\"], ligcode, smiles_str)\n"
   ]
  },
  {
   "cell_type": "markdown",
   "metadata": {},
   "source": [
    "### 3.1) strange cases check"
   ]
  },
  {
   "cell_type": "code",
   "execution_count": 651,
   "metadata": {},
   "outputs": [
    {
     "name": "stdout",
     "output_type": "stream",
     "text": [
      "True\n"
     ]
    }
   ],
   "source": [
    "print('2cvz' in mod_res_chain_lig)"
   ]
  },
  {
   "cell_type": "markdown",
   "metadata": {},
   "source": [
    "## Combine the whole dataset to further save individual complexes in pymol"
   ]
  },
  {
   "cell_type": "markdown",
   "metadata": {},
   "source": [
    "Intersections between cofactors and modified residues."
   ]
  },
  {
   "cell_type": "code",
   "execution_count": 569,
   "metadata": {},
   "outputs": [
    {
     "name": "stdout",
     "output_type": "stream",
     "text": [
      "1965\n",
      "5940\n",
      "200\n"
     ]
    }
   ],
   "source": [
    "print(len(mod_res_chain_lig))\n",
    "print(len(cf_chain_lig))\n",
    "print(len(sorted(list(set(cf_chain_lig.keys()).intersection(mod_res_chain_lig.keys())))))"
   ]
  },
  {
   "cell_type": "markdown",
   "metadata": {},
   "source": [
    "Intersections with pdbbind and bindingmoad.\n",
    "Here my modres/cofactor dataset is priority."
   ]
  },
  {
   "cell_type": "code",
   "execution_count": 570,
   "metadata": {},
   "outputs": [
    {
     "name": "stdout",
     "output_type": "stream",
     "text": [
      "218\n",
      "190\n",
      "221\n",
      "1542\n"
     ]
    }
   ],
   "source": [
    "\n",
    "print(len(sorted(list(set(pdbbind_index.keys()).intersection(mod_res_chain_lig.keys())))))\n",
    "print(len(sorted(list(set(pdbbind_index.keys()).intersection(cf_chain_lig.keys())))))\n",
    "print(len(sorted(list(set(bindingmoad_index.keys()).intersection(mod_res_chain_lig.keys())))))\n",
    "print(len(sorted(list(set(bindingmoad_index.keys()).intersection(cf_chain_lig.keys())))))"
   ]
  },
  {
   "cell_type": "code",
   "execution_count": 710,
   "metadata": {},
   "outputs": [
    {
     "data": {
      "text/plain": [
       "4167"
      ]
     },
     "execution_count": 710,
     "metadata": {},
     "output_type": "execute_result"
    }
   ],
   "source": [
    "len([k for k in mod_res_chain_lig.keys() if k not in pdbbind_index.keys() and k not in bindingmoad_index.keys()])\n",
    "len([k for k in cf_chain_lig.keys() if k not in mod_res_chain_lig.keys() and k not in pdbbind_index.keys() and k not in bindingmoad_index.keys()])"
   ]
  },
  {
   "cell_type": "markdown",
   "metadata": {},
   "source": [
    "First, the intersection between modified residues and cofactors"
   ]
  },
  {
   "cell_type": "code",
   "execution_count": 575,
   "metadata": {},
   "outputs": [
    {
     "name": "stdout",
     "output_type": "stream",
     "text": [
      "200\n"
     ]
    }
   ],
   "source": [
    "mr_cf_lig = {}\n",
    "for p in set(mod_res_chain_lig.keys()).intersection(cf_chain_lig.keys()):\n",
    "    mr_cf_lig[p] = {}\n",
    "    for lig in mod_res_chain_lig[p]:\n",
    "        mr_cf_lig[p][lig] = {'mr': mod_res_chain_lig[p][lig]}\n",
    "    for lig in cf_chain_lig[p]:\n",
    "        if lig in mr_cf_lig[p].keys():\n",
    "            mr_cf_lig[p][lig]['cf'] = cf_chain_lig[p][lig]\n",
    "        else:\n",
    "            mr_cf_lig[p][lig] = {'cf': cf_chain_lig[p][lig]}\n",
    "#     print(mod_res_chain_lig[p])\n",
    "#     print(cf_chain_lig[p])\n",
    "#     print(p)\n",
    "#     print(mr_cf_lig[p])\n",
    "print(len(mr_cf_lig))\n"
   ]
  },
  {
   "cell_type": "markdown",
   "metadata": {},
   "source": [
    "And the final union"
   ]
  },
  {
   "cell_type": "code",
   "execution_count": 572,
   "metadata": {},
   "outputs": [],
   "source": [
    "# after visual inspection\n",
    "bad_bm2 = ['1p7t']\n",
    "skip_pb = ['1at5', '2hjb', '2q7q', '2wkt', '2wl4', '2wl5', '3zs0', '3zs1', '4g68']\n",
    "# merge with bm's 1x98\n",
    "cf_chain_lig['1x98'] = {('CIT', 'A', 'C', 1319): [('NAP', 'A', 'B', 1318), ('FIS', 'A', 'D', 1320)], \n",
    "                        ('NAP', 'A', 'B', 1318): [('CIT', 'A', 'C', 1319)],\n",
    "                        ('FIS', 'A', 'D', 1320): [('CIT', 'A', 'C', 1319)]}"
   ]
  },
  {
   "cell_type": "code",
   "execution_count": 576,
   "metadata": {},
   "outputs": [
    {
     "name": "stdout",
     "output_type": "stream",
     "text": [
      "16330 15967\n",
      "3445\n"
     ]
    }
   ],
   "source": [
    "final_dataset = []\n",
    "allowed_pdbbind = []\n",
    "allowed_bm = []\n",
    "# check the union (that the ligands are the same!)\n",
    "casf_2013 = UTILS.read_ids('{0}casf_2013_codes.dat'.format(PATH_data))\n",
    "casf_2016 = UTILS.read_ids('{0}casf_2016_codes.dat'.format(PATH_data))\n",
    "pdbcodes_pd = UTILS.read_ids('{0}pdbcodes_pb_good.txt'.format(PATH_main))\n",
    "for p in pdbcodes_pd:\n",
    "    if p in casf_2013 + casf_2016 + skip_pb:\n",
    "        continue\n",
    "    resn = list(pdbbind_index[p].keys())[0]\n",
    "    is_same = False\n",
    "    if p in mod_res_chain_lig:\n",
    "        for lig in mod_res_chain_lig[p]:\n",
    "            if resn == lig[0]:\n",
    "                is_same = True\n",
    "#         if not is_same:\n",
    "#             print(p, resn, mod_res_chain_lig[p])\n",
    "    if p in cf_chain_lig:\n",
    "        for lig in cf_chain_lig[p]:\n",
    "            if resn == lig[0]:\n",
    "                is_same = True\n",
    "#         if not is_same:\n",
    "#             print(p, resn, cf_chain_lig[p])\n",
    "#     if not is_same:\n",
    "    allowed_pdbbind.append(p)\n",
    "        \n",
    "print(len(pdbcodes_pd), len(allowed_pdbbind))\n",
    "\n",
    "with open('{0}pdbcodes_ligcodes_bm_not_pb_good.txt'.format(PATH_main)) as F:\n",
    "    for ln_ in F:\n",
    "        ln = ln_.replace('\\n', '').split()\n",
    "        p = ln[0]\n",
    "        if p in bad_bm2 + casf_2013 + casf_2016:\n",
    "            continue\n",
    "        resn = ln[2]\n",
    "        is_same = False\n",
    "        if p in mod_res_chain_lig:\n",
    "            for lig in mod_res_chain_lig[p]:\n",
    "                if resn == lig[0] or (',' in lig[0] and resn in lig[0]):\n",
    "                    is_same = True\n",
    "#             if not is_same:\n",
    "#                 print(list(bindingmoad_index[p].keys()))\n",
    "#                 print(p, resn, mod_res_chain_lig[p])\n",
    "        if p in cf_chain_lig:\n",
    "            for lig in cf_chain_lig[p]:\n",
    "                if resn == lig[0] or (',' in lig[0] and resn in lig[0]):\n",
    "                    is_same = True\n",
    "#             if not is_same:\n",
    "#                 print(list(bindingmoad_index[p].keys()))\n",
    "#                 print(p, resn, cf_chain_lig[p])\n",
    "#         if not is_same:\n",
    "        allowed_bm.append(p)\n",
    "            \n",
    "print(len(allowed_bm))\n",
    "\n",
    "mod_res_final = {}\n",
    "for p in mod_res_chain_lig:\n",
    "    if p not in allowed_bm + allowed_pdbbind + casf_2013 + casf_2016 + list(mr_cf_lig.keys()):\n",
    "        mod_res_final[p] = mod_res_chain_lig[p]\n",
    "\n",
    "cf_res_final = {}\n",
    "for p in cf_chain_lig:\n",
    "    if p not in allowed_bm + allowed_pdbbind + casf_2013 + casf_2016 + list(mr_cf_lig.keys()):\n",
    "        cf_res_final[p] = cf_chain_lig[p]\n",
    "\n",
    "pickle.dump(allowed_pdbbind, open( \"{0}pb19_bm20_mr_cf_v1_pb_pdbcodes\".format(PATH_main), \"wb\" ) )\n",
    "pickle.dump(allowed_bm, open( \"{0}pb19_bm20_mr_cf_v1_bm_pdbcodes\".format(PATH_main), \"wb\" ) )\n",
    "pickle.dump(mr_cf_lig, open( \"{0}pb19_bm20_mr_cf_v1_mr_cf_dct\".format(PATH_main), \"wb\" ))\n",
    "pickle.dump(mod_res_final, open( \"{0}pb19_bm20_mr_cf_v1_mr_dct\".format(PATH_main), \"wb\" ))\n",
    "pickle.dump(cf_res_final, open( \"{0}pb19_bm20_mr_cf_v1_cf_dct\".format(PATH_main), \"wb\" ))"
   ]
  },
  {
   "cell_type": "markdown",
   "metadata": {},
   "source": [
    "Then, in pymol I ran `get_occupancies_pb19_bm20_mr_cf` from `pymol_extract_pl_final.py` to recompute occupancies and use them above.\n",
    "And ran `write_pb19_bm20_mr_cf` from `pymol_extract_pl_final.py` to save everything.\n",
    "\n",
    "`~/Convex-PL --mol2 --decoys --directory pb19_bm20_mr_cf_v1 --output protlig_stat/rdfs_pb19_bm20_mr_cf_v1  --sparseOut --typesSetVersion 17 --protTypesSetVersion 6 --allowCofactors 1 --mrcfListPath ./pb19_bm20_mr_cf_v1_mr_cf_info.txt 1>/dev/null 2>log2.txt &` to train...\n",
    "\n",
    "And them I randomly shuffle the blocks.dat and check whether the resulting rdfs fully cover the protein-ligand type pair space."
   ]
  },
  {
   "cell_type": "markdown",
   "metadata": {},
   "source": [
    "## Check the resulting RDFs"
   ]
  },
  {
   "cell_type": "code",
   "execution_count": 625,
   "metadata": {},
   "outputs": [],
   "source": [
    "def read_sparse_out(fname):\n",
    "    F = open(fname, 'rb')\n",
    "    n_decoys = struct.unpack('i', F.read(4))[0]\n",
    "    dim = struct.unpack('i', F.read(4))[0]\n",
    "    for i in range(n_decoys):\n",
    "        struct.unpack('c', F.read(1))\n",
    "        y = struct.unpack('d', F.read(8))\n",
    "        nnnz = struct.unpack('i', F.read(4))[0]\n",
    "        arr = array.array('i')\n",
    "        arr.fromfile(F, nnnz)\n",
    "        innz = arr.tolist()\n",
    "        arr = array.array('d')\n",
    "        arr.fromfile(F, nnnz)\n",
    "        dat = arr.tolist()\n",
    "    F.close()\n",
    "    \n",
    "def read_sparse_out_return_innz(fname):\n",
    "    F = open(fname, 'rb')\n",
    "    n_decoys = struct.unpack('i', F.read(4))[0]\n",
    "    dim = struct.unpack('i', F.read(4))[0]\n",
    "    for i in range(1):\n",
    "        struct.unpack('c', F.read(1))\n",
    "        y = struct.unpack('d', F.read(8))\n",
    "        nnnz = struct.unpack('i', F.read(4))[0]\n",
    "        arr = array.array('i')\n",
    "        arr.fromfile(F, nnnz)\n",
    "        innz = arr.tolist()\n",
    "        arr = array.array('d')\n",
    "        arr.fromfile(F, nnnz)\n",
    "    F.close()\n",
    "    return nnnz, innz"
   ]
  },
  {
   "cell_type": "code",
   "execution_count": 669,
   "metadata": {},
   "outputs": [
    {
     "name": "stdout",
     "output_type": "stream",
     "text": [
      "0 3a9y\n",
      "1000 3t2q\n",
      "2000 3r35\n",
      "3000 3vva\n",
      "4000 3fxz\n",
      "5000 3f9n\n",
      "6000 4mgj_CPZ_C_502\n",
      "7000 1uwu\n",
      "8000 1ma9_ATP_D_377\n",
      "9000 3uh4\n",
      "10000 4uiz\n",
      "11000 1ppc\n",
      "12000 6hnw\n",
      "13000 2zns\n",
      "14000 5wf7\n",
      "15000 1v2e_PLP_C_510\n",
      "16000 5nwe\n",
      "17000 1ay5_PLP_C_413\n",
      "18000 1a4g\n",
      "19000 2avi\n",
      "20000 1e3i_CXF_H_378\n",
      "21000 4nxf_FMN_C_1001\n",
      "22000 1h1h\n",
      "23000 4ojz\n",
      "24000 1nj1\n",
      "25000 5i3h\n",
      "26000 4rvn_AMP_F_502\n",
      "27000 3w7m_FMN_Q_415\n",
      "28000 5wgq\n",
      "29000 3s1e_ZIP_D_536\n"
     ]
    }
   ],
   "source": [
    "path_rdfs = '{0}protlig_stat/rdfs_pb19_bm20_mr_cf_v1/'.format(PATH_main)\n",
    "ipt = 6\n",
    "ilt = 17\n",
    "n_pt = CPLAtomTypes.n_prot_[ipt - 1]\n",
    "n_lt = CPLAtomTypes.n_lig_[ilt - 1]\n",
    "n_bins = 25\n",
    "m_counts = np.zeros((n_pt, n_lt, n_bins))\n",
    "v2m = [None for i in range(n_pt*n_lt*n_bins)]\n",
    "for i in range(n_pt):\n",
    "    for j in range(n_lt):\n",
    "        for k in range(n_bins):\n",
    "            v2m[i * n_lt * n_bins + j * n_bins + k] = (i, j, k)\n",
    "            \n",
    "for i_f, f in enumerate([f.replace('.bin', '') for f in os.listdir(path_rdfs) if f != 'blocks.dat']):\n",
    "    if i_f % 1000 == 0:\n",
    "        print(i_f, f)\n",
    "    nnnz, innz = read_sparse_out_return_innz('{0}/{1}.bin'.format(path_rdfs, f))\n",
    "    is_here = csr_matrix((np.ones(nnnz), [[0 for _ in range(nnnz)], innz]), \n",
    "                         (1, n_pt * n_lt * n_bins)).A.reshape((n_pt, n_lt, n_bins))\n",
    "    m_counts += is_here\n",
    "    del is_here\n",
    "    del innz\n",
    "#     for ele in innz:\n",
    "#         i, j, k = v2m[ele]\n",
    "#         m_counts[i][j][k] += 1.\n",
    "            "
   ]
  },
  {
   "cell_type": "code",
   "execution_count": 707,
   "metadata": {},
   "outputs": [
    {
     "data": {
      "image/png": "[encoded data removed]",
      "text/plain": [
       "<Figure size 900x540 with 2 Axes>"
      ]
     },
     "metadata": {
      "needs_background": "light"
     },
     "output_type": "display_data"
    }
   ],
   "source": [
    "# we can visualize the contacts map\n",
    "import seaborn as sns\n",
    "from matplotlib.colors import LinearSegmentedColormap\n",
    "\n",
    "def CustomCmap(cols):\n",
    "    cdict = {'red': [], 'green': [], 'blue': []}\n",
    "    for i, col in enumerate(cols):\n",
    "        if len(cdict['red']) == 0:\n",
    "            cdict['red'].append((0, col[0], col[0]))\n",
    "            cdict['green'].append((0, col[1], col[1]))\n",
    "            cdict['blue'].append((0, col[2], col[2]))\n",
    "        elif len(cdict['red']) == len(cols) - 1:\n",
    "            cdict['red'].append((1, col[0], col[0]))\n",
    "            cdict['green'].append((1, col[1], col[1]))\n",
    "            cdict['blue'].append((1, col[2], col[2]))\n",
    "        else:\n",
    "            cdict['red'].append(((i+1)/len(cols), col[0], col[0]))\n",
    "            cdict['green'].append(((i+1)/len(cols), col[1], col[1]))\n",
    "            cdict['blue'].append(((i+1)/len(cols), col[2], col[2]))\n",
    "    cdict['red'] = tuple(cdict['red'])\n",
    "    cdict['green'] = tuple(cdict['green'])\n",
    "    cdict['blue'] = tuple(cdict['blue'])\n",
    "\n",
    "    cmap = LinearSegmentedColormap('custom_cmap', cdict)\n",
    "    return cmap\n",
    "\n",
    "cmap1 = CustomCmap(np.array([[142, 123, 255], [59, 128, 245], [120, 190, 245], [75, 225, 225], [55, 245, 153], [204, 245, 102], [255, 255, 100]])/255,)\n",
    "a = axes()\n",
    "types_counts_loc = np.copy(np.sum(m_counts[:, :, :14], axis=2))\n",
    "types_counts_loc[np.where(types_counts_loc == 0)] = 0.1\n",
    "types_counts_loc = np.log10(types_counts_loc)\n",
    "sns.heatmap(types_counts_loc, ax=a, cmap=cmap1,  linewidths=.0, alpha=0.9)\n",
    "# a.set_aspect(1)\n",
    "tick_label_fs = 12\n",
    "a.set_xlabel('ligand types', fontsize=16)\n",
    "a.set_ylabel('protein types', fontsize=16)\n",
    "a.set_xticks([i + 0.5 for i in range(39)])\n",
    "a.set_xticklabels(CPLAtomTypes.lig_types_[16])\n",
    "a.set_yticks([i + 0.5 for i in range(33)])\n",
    "a.set_yticklabels(CPLAtomTypes.prot_types_[5])\n",
    "for tick in a.yaxis.get_major_ticks():\n",
    "    tick.label.set_fontsize(tick_label_fs)\n",
    "    tick.label.set_rotation(0)\n",
    "a.xaxis.tick_top()\n",
    "for tick in a.xaxis.get_major_ticks():\n",
    "    tick.label.set_fontsize(tick_label_fs)\n",
    "    tick.label.set_rotation(90)\n",
    "xticks(rotation=60, fontsize=tick_label_fs)\n",
    "fig = a.get_figure()\n",
    "fig.set_size_inches(12.5, 7.5)\n",
    "tight_layout()\n",
    "show()"
   ]
  },
  {
   "cell_type": "markdown",
   "metadata": {},
   "source": [
    "#### Smth else"
   ]
  },
  {
   "cell_type": "code",
   "execution_count": 45,
   "metadata": {},
   "outputs": [
    {
     "name": "stdout",
     "output_type": "stream",
     "text": [
      "182\n"
     ]
    }
   ],
   "source": [
    "found_cofactors = set()\n",
    "for p in cf_info:\n",
    "    for s in cf_info[p]:\n",
    "        for ln in cf_info[p][s]:\n",
    "            c0 = ln[0]\n",
    "            c1 = ln[4]\n",
    "#                 os.system('wget https://models.rcsb.org/v1/{0}/ligand?auth_seq_id={1}&'\n",
    "#                 'label_asym_id={2}&encoding=mol2&filename={3}.mol2 -P {4}co_examples/'.format(p, ln[3], s, c0,\n",
    "#                                                                                               PATH_main))\n",
    "            \n",
    "#                 os.system('wget https://models.rcsb.org/v1/{0}/ligand?auth_seq_id={1}&'\n",
    "#                 'label_asym_id={2}&encoding=mol2&filename={3}.mol2 -P {4}co_examples/'.format(p, ln[7], s, c1,\n",
    "#                                                                                               PATH_main))\n",
    "            if c0 in cofactors_list:\n",
    "                if c0 not in found_cofactors:\n",
    "                    os.system('wget ftp://ftp.ebi.ac.uk/pub/databases/msd/pdbechem/files/pdb_r/{0}.pdb '\n",
    "                              '-P {1}co_examples/'.format(c0, PATH_main))\n",
    "                found_cofactors.add(c0)\n",
    "            if c1 in cofactors_list:\n",
    "                if c1 not in found_cofactors:\n",
    "                    os.system('wget ftp://ftp.ebi.ac.uk/pub/databases/msd/pdbechem/files/pdb_r/{0}.pdb '\n",
    "                              '-P {1}co_examples/'.format(c1, PATH_main))\n",
    "                found_cofactors.add(c1)\n",
    "\n",
    "print(len(found_cofactors))"
   ]
  }
 ],
 "metadata": {
  "kernelspec": {
   "display_name": "Python 3",
   "language": "python",
   "name": "python3"
  },
  "language_info": {
   "codemirror_mode": {
    "name": "ipython",
    "version": 3
   },
   "file_extension": ".py",
   "mimetype": "text/x-python",
   "name": "python",
   "nbconvert_exporter": "python",
   "pygments_lexer": "ipython3",
   "version": "3.6.9"
  }
 },
 "nbformat": 4,
 "nbformat_minor": 2
}
